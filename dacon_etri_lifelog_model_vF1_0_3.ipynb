{
  "cells": [
    {
      "cell_type": "markdown",
      "metadata": {
        "id": "view-in-github",
        "colab_type": "text"
      },
      "source": [
        "<a href=\"https://colab.research.google.com/github/jacobgreen4477/The-4th-ETRI-AI-Human-Understanding-Competition/blob/main/dacon_etri_lifelog_model_vF1_0_3.ipynb\" target=\"_parent\"><img src=\"https://colab.research.google.com/assets/colab-badge.svg\" alt=\"Open In Colab\"/></a>"
      ]
    },
    {
      "cell_type": "markdown",
      "id": "5e04b986",
      "metadata": {
        "id": "5e04b986"
      },
      "source": [
        "> title : 제 4회 ETRI 휴먼이해 인공지능 논문경진대회 <br>\n",
        "> author : hjy,byc <br>"
      ]
    },
    {
      "cell_type": "markdown",
      "id": "21389cf1",
      "metadata": {
        "id": "21389cf1"
      },
      "source": [
        "### 📦 라이브러리"
      ]
    },
    {
      "cell_type": "code",
      "execution_count": 1,
      "id": "aca4f97e-8957-48ee-8927-9f27e8046cfc",
      "metadata": {
        "id": "aca4f97e-8957-48ee-8927-9f27e8046cfc"
      },
      "outputs": [],
      "source": [
        "! pip install haversine >/dev/null\n",
        "! pip install optuna  >/dev/null\n",
        "! pip install category_encoders >/dev/null\n",
        "! pip install tabpfn  >/dev/null\n",
        "! pip install catboost >/dev/null\n",
        "! pip install torchmetrics >/dev/null"
      ]
    },
    {
      "cell_type": "code",
      "execution_count": 2,
      "id": "4f2a25a5",
      "metadata": {
        "colab": {
          "base_uri": "https://localhost:8080/",
          "height": 197
        },
        "id": "4f2a25a5",
        "outputId": "1311ca3c-fe15-43cc-9818-6d8339a31615"
      },
      "outputs": [
        {
          "output_type": "stream",
          "name": "stderr",
          "text": [
            "\u001b[34m\u001b[1mwandb\u001b[0m: \u001b[33mWARNING\u001b[0m If you're specifying your api key in code, ensure this code is not shared publicly.\n",
            "\u001b[34m\u001b[1mwandb\u001b[0m: \u001b[33mWARNING\u001b[0m Consider setting the WANDB_API_KEY environment variable, or running `wandb login` from the command line.\n",
            "\u001b[34m\u001b[1mwandb\u001b[0m: No netrc file found, creating one.\n",
            "\u001b[34m\u001b[1mwandb\u001b[0m: Appending key for api.wandb.ai to your netrc file: /root/.netrc\n",
            "\u001b[34m\u001b[1mwandb\u001b[0m: Currently logged in as: \u001b[33mbyc3230\u001b[0m to \u001b[32mhttps://api.wandb.ai\u001b[0m. Use \u001b[1m`wandb login --relogin`\u001b[0m to force relogin\n"
          ]
        },
        {
          "output_type": "display_data",
          "data": {
            "text/plain": [
              "<IPython.core.display.HTML object>"
            ],
            "text/html": [
              "Tracking run with wandb version 0.19.11"
            ]
          },
          "metadata": {}
        },
        {
          "output_type": "display_data",
          "data": {
            "text/plain": [
              "<IPython.core.display.HTML object>"
            ],
            "text/html": [
              "Run data is saved locally in <code>/content/wandb/run-20250612_082829-060rqoa9</code>"
            ]
          },
          "metadata": {}
        },
        {
          "output_type": "display_data",
          "data": {
            "text/plain": [
              "<IPython.core.display.HTML object>"
            ],
            "text/html": [
              "Syncing run <strong><a href='https://wandb.ai/byc3230/etri_lifelog/runs/060rqoa9' target=\"_blank\">likely-grass-131</a></strong> to <a href='https://wandb.ai/byc3230/etri_lifelog' target=\"_blank\">Weights & Biases</a> (<a href='https://wandb.me/developer-guide' target=\"_blank\">docs</a>)<br>"
            ]
          },
          "metadata": {}
        },
        {
          "output_type": "display_data",
          "data": {
            "text/plain": [
              "<IPython.core.display.HTML object>"
            ],
            "text/html": [
              " View project at <a href='https://wandb.ai/byc3230/etri_lifelog' target=\"_blank\">https://wandb.ai/byc3230/etri_lifelog</a>"
            ]
          },
          "metadata": {}
        },
        {
          "output_type": "display_data",
          "data": {
            "text/plain": [
              "<IPython.core.display.HTML object>"
            ],
            "text/html": [
              " View run at <a href='https://wandb.ai/byc3230/etri_lifelog/runs/060rqoa9' target=\"_blank\">https://wandb.ai/byc3230/etri_lifelog/runs/060rqoa9</a>"
            ]
          },
          "metadata": {}
        }
      ],
      "source": [
        "# 기본 모듈\n",
        "import os\n",
        "import sys\n",
        "import re\n",
        "import ast\n",
        "import glob\n",
        "import random\n",
        "import warnings\n",
        "from collections import Counter\n",
        "from math import radians, cos, sin, asin, sqrt\n",
        "from functools import reduce\n",
        "from datetime import datetime, timedelta, time\n",
        "import numpy as np\n",
        "import pandas as pd\n",
        "import matplotlib.pyplot as plt\n",
        "import seaborn as sns\n",
        "\n",
        "# 머신러닝\n",
        "from sklearn.model_selection import train_test_split, KFold, StratifiedKFold, cross_val_score\n",
        "from sklearn.metrics import f1_score, roc_auc_score, roc_curve\n",
        "from sklearn import metrics\n",
        "from sklearn.preprocessing import LabelEncoder, StandardScaler\n",
        "from sklearn.utils.class_weight import compute_class_weight, compute_sample_weight\n",
        "from category_encoders import TargetEncoder\n",
        "from lightgbm import LGBMClassifier, log_evaluation, early_stopping\n",
        "from xgboost import XGBClassifier\n",
        "from catboost import CatBoostClassifier\n",
        "import lightgbm as lgb\n",
        "from tabpfn import TabPFNClassifier\n",
        "\n",
        "# PyTorch\n",
        "import torch\n",
        "from torch import nn\n",
        "from torch.nn import functional as F\n",
        "import torch.optim as optim\n",
        "from torch.utils.data import DataLoader, Dataset\n",
        "\n",
        "# Hugging Face\n",
        "from huggingface_hub import login\n",
        "from transformers import (\n",
        "    AutoTokenizer,\n",
        "    AutoModelForSequenceClassification,\n",
        "    LlamaTokenizer,\n",
        "    LlamaForCausalLM,\n",
        "    LlamaForSequenceClassification\n",
        ")\n",
        "\n",
        "# PEFT (Parameter-Efficient Fine-Tuning)\n",
        "from peft import (\n",
        "    LoraConfig,\n",
        "    get_peft_model,\n",
        "    get_peft_model_state_dict,\n",
        "    TaskType\n",
        ")\n",
        "\n",
        "# Evaluation & Utilities\n",
        "from torchmetrics import Accuracy\n",
        "\n",
        "# 기타\n",
        "from tqdm import tqdm\n",
        "from tqdm.auto import tqdm as auto_tqdm  # 필요 시 구분\n",
        "from scipy.stats import entropy\n",
        "from haversine import haversine\n",
        "from io import StringIO\n",
        "import gc\n",
        "\n",
        "# wandb\n",
        "import wandb\n",
        "wandb.login(key=\"5fa8dfb2c5be3c888bfe0101437a8fa22fbdf0e0\")\n",
        "wandb.init(project=\"etri_lifelog\", entity=\"byc3230\")\n",
        "\n",
        "# 옵션\n",
        "os.environ[\"CUDA_VISIBLE_DEVICES\"] = \"0\"\n",
        "os.environ[\"TOKENIZERS_PARALLELISM\"] = \"false\"\n",
        "pd.set_option('display.max_columns', 999)\n",
        "pd.set_option('display.max_rows', 999)\n",
        "pd.set_option('display.max_colwidth', None)\n",
        "pd.set_option('display.float_format', lambda x: '%0.4f' % x)\n",
        "\n",
        "# 기타\n",
        "warnings.filterwarnings('ignore')"
      ]
    },
    {
      "cell_type": "code",
      "execution_count": 3,
      "id": "de5b6541",
      "metadata": {
        "id": "de5b6541"
      },
      "outputs": [],
      "source": [
        "string = \"\"\"\n",
        "subject_id,sleep_date\n",
        "id01,2024-07-24\n",
        "id01,2024-08-26\n",
        "id01,2024-08-28\n",
        "id01,2024-08-29\n",
        "id02,2024-08-23\n",
        "id02,2024-09-24\n",
        "id02,2024-09-26\n",
        "id02,2024-09-27\n",
        "id03,2024-08-30\n",
        "id03,2024-09-01\n",
        "id03,2024-09-02\n",
        "id03,2024-09-06\n",
        "id04,2024-09-03\n",
        "id04,2024-10-10\n",
        "id04,2024-10-12\n",
        "id04,2024-10-13\n",
        "id05,2024-10-19\n",
        "id05,2024-10-23\n",
        "id05,2024-10-24\n",
        "id05,2024-10-27\n",
        "id06,2024-07-25\n",
        "id06,2024-07-26\n",
        "id06,2024-07-27\n",
        "id06,2024-07-30\n",
        "id07,2024-07-07\n",
        "id07,2024-08-02\n",
        "id07,2024-08-04\n",
        "id07,2024-08-05\n",
        "id08,2024-08-28\n",
        "id08,2024-08-29\n",
        "id08,2024-08-30\n",
        "id08,2024-09-02\n",
        "id09,2024-08-02\n",
        "id09,2024-08-31\n",
        "id09,2024-09-02\n",
        "id09,2024-09-03\n",
        "id10,2024-08-28\n",
        "id10,2024-08-30\n",
        "id10,2024-08-31\n",
        "id10,2024-09-03\n",
        "\"\"\"\n",
        "\n",
        "# DataFrame 생성\n",
        "valid_ids = pd.read_csv(StringIO(string), sep=',')\n",
        "valid_ids['pk'] = valid_ids['subject_id']+valid_ids['sleep_date']"
      ]
    },
    {
      "cell_type": "code",
      "source": [
        "string = \"\"\"\n",
        "subject_id\tsleep_date\n",
        "id01\t2024-07-24\n",
        "id01\t2024-07-27\n",
        "id01\t2024-08-18\n",
        "id01\t2024-08-19\n",
        "id01\t2024-08-20\n",
        "id01\t2024-08-21\n",
        "id01\t2024-08-22\n",
        "id01\t2024-08-24\n",
        "id01\t2024-08-25\n",
        "id01\t2024-08-26\n",
        "id01\t2024-08-27\n",
        "id01\t2024-08-28\n",
        "id01\t2024-08-29\n",
        "id01\t2024-08-30\n",
        "id02\t2024-08-23\n",
        "id02\t2024-08-24\n",
        "id02\t2024-09-16\n",
        "id02\t2024-09-17\n",
        "id02\t2024-09-19\n",
        "id02\t2024-09-20\n",
        "id02\t2024-09-21\n",
        "id02\t2024-09-22\n",
        "id02\t2024-09-23\n",
        "id02\t2024-09-24\n",
        "id02\t2024-09-25\n",
        "id02\t2024-09-26\n",
        "id02\t2024-09-27\n",
        "id02\t2024-09-28\n",
        "id03\t2024-08-30\n",
        "id03\t2024-09-01\n",
        "id03\t2024-09-02\n",
        "id03\t2024-09-03\n",
        "id03\t2024-09-05\n",
        "id03\t2024-09-06\n",
        "id03\t2024-09-07\n",
        "id04\t2024-09-03\n",
        "id04\t2024-09-04\n",
        "id04\t2024-09-05\n",
        "id04\t2024-09-06\n",
        "id04\t2024-09-07\n",
        "id04\t2024-09-08\n",
        "id04\t2024-09-09\n",
        "id04\t2024-10-08\n",
        "id04\t2024-10-09\n",
        "id04\t2024-10-10\n",
        "id04\t2024-10-11\n",
        "id04\t2024-10-12\n",
        "id04\t2024-10-13\n",
        "id04\t2024-10-14\n",
        "id05\t2024-10-19\n",
        "id05\t2024-10-23\n",
        "id05\t2024-10-24\n",
        "id05\t2024-10-25\n",
        "id05\t2024-10-26\n",
        "id05\t2024-10-27\n",
        "id05\t2024-10-28\n",
        "id06\t2024-07-25\n",
        "id06\t2024-07-26\n",
        "id06\t2024-07-27\n",
        "id06\t2024-07-28\n",
        "id06\t2024-07-29\n",
        "id06\t2024-07-30\n",
        "id06\t2024-07-31\n",
        "id07\t2024-07-07\n",
        "id07\t2024-07-08\n",
        "id07\t2024-07-09\n",
        "id07\t2024-07-10\n",
        "id07\t2024-07-11\n",
        "id07\t2024-07-12\n",
        "id07\t2024-07-13\n",
        "id07\t2024-07-30\n",
        "id07\t2024-08-01\n",
        "id07\t2024-08-02\n",
        "id07\t2024-08-03\n",
        "id07\t2024-08-04\n",
        "id07\t2024-08-05\n",
        "id07\t2024-08-06\n",
        "id08\t2024-08-28\n",
        "id08\t2024-08-29\n",
        "id08\t2024-08-30\n",
        "id08\t2024-08-31\n",
        "id08\t2024-09-01\n",
        "id08\t2024-09-02\n",
        "id08\t2024-09-04\n",
        "id09\t2024-08-02\n",
        "id09\t2024-08-22\n",
        "id09\t2024-08-23\n",
        "id09\t2024-08-24\n",
        "id09\t2024-08-25\n",
        "id09\t2024-08-27\n",
        "id09\t2024-08-28\n",
        "id09\t2024-08-29\n",
        "id09\t2024-08-30\n",
        "id09\t2024-08-31\n",
        "id09\t2024-09-01\n",
        "id09\t2024-09-02\n",
        "id09\t2024-09-03\n",
        "id09\t2024-09-04\n",
        "id10\t2024-08-28\n",
        "id10\t2024-08-30\n",
        "id10\t2024-08-31\n",
        "id10\t2024-09-01\n",
        "id10\t2024-09-02\n",
        "id10\t2024-09-03\n",
        "id10\t2024-09-06\n",
        "\"\"\"\n",
        "\n",
        "# DataFrame 생성\n",
        "valid_ids2 = pd.read_csv(StringIO(string), sep='\\t')\n",
        "valid_ids2['pk'] = valid_ids2['subject_id']+valid_ids2['sleep_date']"
      ],
      "metadata": {
        "id": "3I98mq29kqP6"
      },
      "id": "3I98mq29kqP6",
      "execution_count": 4,
      "outputs": []
    },
    {
      "cell_type": "code",
      "source": [],
      "metadata": {
        "id": "01lJI0aHkrM5"
      },
      "id": "01lJI0aHkrM5",
      "execution_count": 4,
      "outputs": []
    },
    {
      "cell_type": "code",
      "source": [],
      "metadata": {
        "id": "ZWpWW1B5krcv"
      },
      "id": "ZWpWW1B5krcv",
      "execution_count": 4,
      "outputs": []
    },
    {
      "cell_type": "markdown",
      "id": "0a6ab82b",
      "metadata": {
        "id": "0a6ab82b"
      },
      "source": [
        "### 📦 데이터 읽기"
      ]
    },
    {
      "cell_type": "code",
      "execution_count": 5,
      "id": "39d79d1f",
      "metadata": {
        "colab": {
          "base_uri": "https://localhost:8080/"
        },
        "id": "39d79d1f",
        "outputId": "18517734-6aee-4eb9-92ba-7d6f351d337f"
      },
      "outputs": [
        {
          "output_type": "stream",
          "name": "stdout",
          "text": [
            "Mounted at /content/drive\n",
            "# train  shape: (450, 340)\n",
            "# test   shape: (250, 340)\n"
          ]
        }
      ],
      "source": [
        "from google.colab import drive, files\n",
        "drive.mount('/content/drive')\n",
        "\n",
        "path = '/content/drive/MyDrive/data/ch2025_data_items/share/'\n",
        "\n",
        "# [1]공통\n",
        "train = pd.read_parquet(f'{path}train_63775_v2.parquet')\n",
        "test = pd.read_parquet(f'{path}test_63775_v2.parquet')\n",
        "\n",
        "# [2]version2 train,test 데이터셋 by 현종열\n",
        "# train = pd.read_parquet(f'{path}train_hjy_0603_v1.parquet')\n",
        "# test = pd.read_parquet(f'{path}test_hjy_0603_v1.parquet')\n",
        "\n",
        "# [3]QWEN3 8B 활용한 결측처리 (대상: mScreenStatus)\n",
        "mScreenStatus_llm = pd.read_excel(f'{path}mScreenStatus_llm결측값생성후파생변수생성_20250609_v1.xlsx')\n",
        "\n",
        "# mScreenStatus_llm 컬럼 추가\n",
        "feats = ['sleep_time', 'wake_time', 'sleep_duration_min', 'avg_sleep_time', 'avg_wake_time', 'avg_sleep_duration', 'sleep_time_diff', 'wake_time_diff', 'sleep_duration_diff', 'sleep_time_ratio', 'wake_time_ratio', 'sleep_duration_ratio', 'sleep_time_lag1', 'wake_time_lag1', 'sleep_duration_lag1', 'sleep_time_diff_lag1', 'wake_time_diff_lag1', 'sleep_duration_diff_lag1', 'sleep_time_ratio_lag1', 'wake_time_ratio_lag1', 'sleep_duration_ratio_lag1', 'sleep_time_lag2', 'wake_time_lag2', 'sleep_duration_lag2', 'sleep_time_diff_lag2', 'wake_time_diff_lag2', 'sleep_duration_diff_lag2', 'sleep_time_ratio_lag2', 'wake_time_ratio_lag2', 'sleep_duration_ratio_lag2', 'sleep_time_mean2d', 'wake_time_mean2d', 'sleep_duration_min_mean2d', 'sleep_time_diff_mean2d', 'wake_time_diff_mean2d', 'sleep_duration_diff_mean2d', 'sleep_time_ratio_mean2d', 'wake_time_ratio_mean2d', 'sleep_duration_ratio_mean2d', 'sleep_time_std2d', 'wake_time_std2d', 'sleep_duration_min_std2d', 'sleep_time_diff_std2d', 'wake_time_diff_std2d', 'sleep_duration_diff_std2d', 'sleep_time_ratio_std2d', 'wake_time_ratio_std2d', 'sleep_duration_ratio_std2d', 'sleep_time_mean3d', 'wake_time_mean3d', 'sleep_duration_min_mean3d', 'sleep_time_diff_mean3d', 'wake_time_diff_mean3d', 'sleep_duration_diff_mean3d', 'sleep_time_ratio_mean3d', 'wake_time_ratio_mean3d', 'sleep_duration_ratio_mean3d', 'sleep_time_std3d', 'wake_time_std3d', 'sleep_duration_min_std3d', 'sleep_time_diff_std3d', 'wake_time_diff_std3d', 'sleep_duration_diff_std3d', 'sleep_time_ratio_std3d', 'wake_time_ratio_std3d', 'sleep_duration_ratio_std3d', 'sleep_time_mean5d', 'wake_time_mean5d', 'sleep_duration_min_mean5d', 'sleep_time_diff_mean5d', 'wake_time_diff_mean5d', 'sleep_duration_diff_mean5d', 'sleep_time_ratio_mean5d', 'wake_time_ratio_mean5d', 'sleep_duration_ratio_mean5d', 'sleep_time_std5d', 'wake_time_std5d', 'sleep_duration_min_std5d', 'sleep_time_diff_std5d', 'wake_time_diff_std5d', 'sleep_duration_diff_std5d', 'sleep_time_ratio_std5d', 'wake_time_ratio_std5d', 'sleep_duration_ratio_std5d', 'sleep_time_mean7d', 'wake_time_mean7d', 'sleep_duration_min_mean7d', 'sleep_time_diff_mean7d', 'wake_time_diff_mean7d', 'sleep_duration_diff_mean7d', 'sleep_time_ratio_mean7d', 'wake_time_ratio_mean7d', 'sleep_duration_ratio_mean7d', 'sleep_time_std7d', 'wake_time_std7d', 'sleep_duration_min_std7d', 'sleep_time_diff_std7d', 'wake_time_diff_std7d', 'sleep_duration_diff_std7d', 'sleep_time_ratio_std7d', 'wake_time_ratio_std7d', 'sleep_duration_ratio_std7d', 'weekday_avg_sleep', 'sleep_duration_weekday_avg_diff', 'sleep_duration_weekday_avg_div']\n",
        "drop_features = [i for i in feats if i in train.columns]\n",
        "train = train.drop(columns=drop_features)\n",
        "train = train.merge(mScreenStatus_llm,on=['subject_id','lifelog_date'],how='left')\n",
        "test = test.drop(columns=drop_features)\n",
        "test = test.merge(mScreenStatus_llm,on=['subject_id','lifelog_date'],how='left')\n",
        "\n",
        "# check\n",
        "print('# train  shape:',train.shape)\n",
        "print('# test   shape:',test.shape)"
      ]
    },
    {
      "cell_type": "code",
      "execution_count": 5,
      "id": "01bd961f",
      "metadata": {
        "id": "01bd961f"
      },
      "outputs": [],
      "source": []
    },
    {
      "cell_type": "code",
      "source": [],
      "metadata": {
        "id": "fHigMry0ge1b"
      },
      "id": "fHigMry0ge1b",
      "execution_count": null,
      "outputs": []
    },
    {
      "cell_type": "code",
      "source": [],
      "metadata": {
        "id": "ee1me34vP17s"
      },
      "id": "ee1me34vP17s",
      "execution_count": null,
      "outputs": []
    },
    {
      "cell_type": "code",
      "source": [
        "# 라이브러리 임포트\n",
        "from sklearn.datasets import fetch_california_housing\n",
        "from sklearn.inspection import permutation_importance\n",
        "from sklearn.model_selection import train_test_split\n",
        "from sklearn.metrics import mean_squared_error\n",
        "import xgboost as xgb\n",
        "import numpy as np\n",
        "import matplotlib.pyplot as plt\n",
        "\n",
        "# 데이터 로드\n",
        "data = fetch_california_housing()\n",
        "X, y = data.data, data.target\n",
        "feature_names = data.feature_names\n",
        "\n",
        "# 훈련/테스트 세트 분할 (70:30)\n",
        "X_train, X_test, y_train, y_test = train_test_split(\n",
        "    X, y, test_size=0.3, random_state=42\n",
        ")\n",
        "\n",
        "# XGBoost 모델 구성 및 훈련\n",
        "model = xgb.XGBRegressor(\n",
        "    n_estimators=200,\n",
        "    learning_rate=0.05,\n",
        "    max_depth=5,\n",
        "    random_state=42,\n",
        "    eval_metric='rmse'\n",
        ")\n",
        "model.fit(\n",
        "    X_train, y_train,\n",
        "    eval_set=[(X_test, y_test)],\n",
        "    #early_stopping_rounds=10,\n",
        "    verbose=False\n",
        ")\n",
        "\n",
        "# 테스트 세트 성능 평가\n",
        "pred = model.predict(X_test)\n",
        "baseline_rmse = np.sqrt(mean_squared_error(y_test, pred))\n",
        "print(f\"Baseline RMSE: {baseline_rmse:.4f}\")\n",
        "\n",
        "# 순열 중요도 계산\n",
        "result = permutation_importance(\n",
        "    model,\n",
        "    X_test,\n",
        "    y_test,\n",
        "    n_repeats=30,               # 안정적인 결과를 위해 30회 반복\n",
        "    random_state=42,\n",
        "    scoring='neg_mean_squared_error'  # MSE 기반\n",
        ")\n",
        "\n",
        "# 중요도 정렬 (평균 중요도 기준)\n",
        "sorted_idx = result.importances_mean.argsort()[::-1]\n",
        "\n",
        "# 시각화\n",
        "plt.figure(figsize=(12, 8))\n",
        "plt.boxplot(\n",
        "    result.importances[sorted_idx].T,\n",
        "    vert=False,\n",
        "    labels=np.array(feature_names)[sorted_idx],\n",
        "    patch_artist=True,\n",
        "    boxprops=dict(facecolor='lightblue')\n",
        ")\n",
        "plt.axvline(x=0, color='red', linestyle='--', alpha=0.5)\n",
        "plt.title(\"XGBoost Permutation Importance (Test Set)\", fontsize=14)\n",
        "plt.xlabel(\"RMSE Increase after Permutation\", fontsize=12)\n",
        "plt.tight_layout()\n",
        "plt.show()\n",
        "\n",
        "# 상위 N개 변수 출력\n",
        "print(\"\\nTop Features by Permutation Importance:\")\n",
        "for i in sorted_idx:\n",
        "    if result.importances_mean[i] > 0:  # 양의 중요도만 선택\n",
        "        imp_mean = result.importances_mean[i]\n",
        "        imp_std = result.importances_std[i]\n",
        "        print(f\"{feature_names[i]:<10}: {imp_mean:.4f} ± {imp_std:.4f}\")"
      ],
      "metadata": {
        "colab": {
          "base_uri": "https://localhost:8080/",
          "height": 1000
        },
        "id": "bZ6Ae7EyP2Av",
        "outputId": "27dfa3aa-6251-41aa-abd7-599cc25b1e5b"
      },
      "id": "bZ6Ae7EyP2Av",
      "execution_count": 8,
      "outputs": [
        {
          "output_type": "stream",
          "name": "stdout",
          "text": [
            "Baseline RMSE: 0.4847\n"
          ]
        },
        {
          "output_type": "display_data",
          "data": {
            "text/plain": [
              "<Figure size 1200x800 with 1 Axes>"
            ],
            "image/png": "[encoded data removed]"
          },
          "metadata": {}
        },
        {
          "output_type": "stream",
          "name": "stdout",
          "text": [
            "\n",
            "Top Features by Permutation Importance:\n",
            "Latitude  : 1.2505 ± 0.0224\n",
            "Longitude : 1.0471 ± 0.0156\n",
            "MedInc    : 0.8363 ± 0.0131\n",
            "AveOccup  : 0.2083 ± 0.0064\n",
            "HouseAge  : 0.0569 ± 0.0024\n",
            "AveRooms  : 0.0328 ± 0.0018\n",
            "AveBedrms : 0.0080 ± 0.0011\n",
            "Population: 0.0036 ± 0.0009\n"
          ]
        }
      ]
    },
    {
      "cell_type": "code",
      "source": [
        "vi_df = pd.DataFrame({\n",
        "     '변수명':np.array(feature_names)[sorted_idx]\n",
        "    ,'중요도':result.importances_mean[sorted_idx]\n",
        "})\n",
        "\n",
        "vi_df.loc[vi_df['중요도']>0,'변수명'].tolist()"
      ],
      "metadata": {
        "colab": {
          "base_uri": "https://localhost:8080/"
        },
        "id": "mHoHSmEAP2C-",
        "outputId": "bc146c97-96c6-461e-cc96-153dff0e8708"
      },
      "id": "mHoHSmEAP2C-",
      "execution_count": 23,
      "outputs": [
        {
          "output_type": "execute_result",
          "data": {
            "text/plain": [
              "['Latitude',\n",
              " 'Longitude',\n",
              " 'MedInc',\n",
              " 'AveOccup',\n",
              " 'HouseAge',\n",
              " 'AveRooms',\n",
              " 'AveBedrms',\n",
              " 'Population']"
            ]
          },
          "metadata": {},
          "execution_count": 23
        }
      ]
    },
    {
      "cell_type": "code",
      "source": [],
      "metadata": {
        "id": "jUUWqIjTP2Jz"
      },
      "id": "jUUWqIjTP2Jz",
      "execution_count": null,
      "outputs": []
    },
    {
      "cell_type": "code",
      "source": [],
      "metadata": {
        "id": "Fj_JsIKMP2L3"
      },
      "id": "Fj_JsIKMP2L3",
      "execution_count": null,
      "outputs": []
    },
    {
      "cell_type": "code",
      "source": [],
      "metadata": {
        "id": "8RX6w0CMP2Pc"
      },
      "id": "8RX6w0CMP2Pc",
      "execution_count": null,
      "outputs": []
    },
    {
      "cell_type": "code",
      "source": [],
      "metadata": {
        "id": "eakMJrXuP2Rw"
      },
      "id": "eakMJrXuP2Rw",
      "execution_count": null,
      "outputs": []
    },
    {
      "cell_type": "code",
      "source": [],
      "metadata": {
        "id": "r63tZKctP2VG"
      },
      "id": "r63tZKctP2VG",
      "execution_count": null,
      "outputs": []
    },
    {
      "cell_type": "code",
      "source": [],
      "metadata": {
        "id": "hTHtgMwsP2X4"
      },
      "id": "hTHtgMwsP2X4",
      "execution_count": null,
      "outputs": []
    },
    {
      "cell_type": "code",
      "source": [],
      "metadata": {
        "id": "CQj9xqH0P2cC"
      },
      "id": "CQj9xqH0P2cC",
      "execution_count": null,
      "outputs": []
    },
    {
      "cell_type": "code",
      "source": [],
      "metadata": {
        "id": "EblbZvbkP2ex"
      },
      "id": "EblbZvbkP2ex",
      "execution_count": null,
      "outputs": []
    },
    {
      "cell_type": "code",
      "source": [],
      "metadata": {
        "id": "DQaxMTwoP2jq"
      },
      "id": "DQaxMTwoP2jq",
      "execution_count": null,
      "outputs": []
    },
    {
      "cell_type": "code",
      "source": [],
      "metadata": {
        "id": "hM1JHUx4P2l1"
      },
      "id": "hM1JHUx4P2l1",
      "execution_count": null,
      "outputs": []
    },
    {
      "cell_type": "markdown",
      "id": "S_syDjeiMnUN",
      "metadata": {
        "id": "S_syDjeiMnUN"
      },
      "source": [
        "### ============================"
      ]
    },
    {
      "cell_type": "markdown",
      "id": "HtiE52IWK_nd",
      "metadata": {
        "id": "HtiE52IWK_nd"
      },
      "source": [
        "### run_basemodel"
      ]
    },
    {
      "cell_type": "code",
      "execution_count": 24,
      "id": "2kbYLCFJLpQ5",
      "metadata": {
        "id": "2kbYLCFJLpQ5"
      },
      "outputs": [],
      "source": [
        "def run_basemodel(train, test, valid_ids, common_params, n_splits, n_top_features, random_state=42):\n",
        "\n",
        "    lgb_A = 0.333\n",
        "    xgb_B = 0.334\n",
        "    tab_C = 0.333\n",
        "\n",
        "    train_df = train.copy()\n",
        "    test_df = test.copy()\n",
        "\n",
        "    submission_final = test_df[['subject_id', 'sleep_date', 'lifelog_date']].copy()\n",
        "    submission_final['lifelog_date'] = pd.to_datetime(submission_final['lifelog_date']).dt.date\n",
        "\n",
        "    # 타겟\n",
        "    targets_binary = ['Q1', 'Q2', 'Q3', 'S2', 'S3']\n",
        "    targets_binary_name = ['기상직후수면질','취침전신체적피로','취침전스트레스','수면효율','수면잠들기시간']\n",
        "    target_multiclass = 'S1'\n",
        "    all_targets = targets_binary + [target_multiclass]\n",
        "\n",
        "    # 노이즈 수준 설정\n",
        "    def add_noise(series, noise_level, seed=3):\n",
        "        rng = np.random.default_rng(seed)\n",
        "        return series * (1 + noise_level * rng.standard_normal(len(series)))\n",
        "\n",
        "    noise_level = 0.015  # 필요에 따라 조정\n",
        "\n",
        "    # 타겟인코딩\n",
        "    for tgt in all_targets:\n",
        "\n",
        "      encoder_feats = ['subject_id','month','weekend'] # 'weekday', 'subject_id','month','weekend'\n",
        "\n",
        "      #### 타겟인코딩1\n",
        "\n",
        "      subject_mean = train_df.groupby(encoder_feats)[tgt].mean().rename(f'{tgt}_te')\n",
        "      train_df = train_df.merge(subject_mean, on=encoder_feats, how='left')\n",
        "      test_df = test_df.merge(subject_mean, on=encoder_feats, how='left')\n",
        "      global_mean = train_df[tgt].mean()\n",
        "      test_df[f'{tgt}_te'] = test_df[f'{tgt}_te'].fillna(global_mean)\n",
        "\n",
        "      # 노이즈 추가\n",
        "      train_df[f'{tgt}_te'] = add_noise(train_df[f'{tgt}_te'], noise_level)\n",
        "      test_df[f'{tgt}_te'] = add_noise(test_df[f'{tgt}_te'], noise_level)\n",
        "\n",
        "      #### 타겟인코딩2\n",
        "\n",
        "      # 새로운 범주형 열 생성\n",
        "      train_df['TMP'] = train_df[encoder_feats].applymap(str).apply(lambda x: ''.join(x) ,axis=1)\n",
        "      test_df['TMP'] = test_df[encoder_feats].applymap(str).apply(lambda x: ''.join(x) ,axis=1)\n",
        "\n",
        "      # 인코더\n",
        "      encoder = TargetEncoder(cols=['TMP'], smoothing=300) # 40\n",
        "      encoder.fit(train_df[['TMP']], train_df[tgt])\n",
        "\n",
        "      # 인코딩 결과를 새로운 열에 저장\n",
        "      train_df[f'{tgt}_te2'] = encoder.transform(train_df[['TMP']])\n",
        "      test_df[f'{tgt}_te2'] = encoder.transform(test_df[['TMP']])\n",
        "\n",
        "      # 노이즈 추가\n",
        "      train_df[f'{tgt}_te2'] = add_noise(train_df[f'{tgt}_te2'], noise_level)\n",
        "      test_df[f'{tgt}_te2'] = add_noise(test_df[f'{tgt}_te2'], noise_level)\n",
        "\n",
        "      # 불필요한 변수 제거\n",
        "      train_df = train_df.drop(columns=['TMP'])\n",
        "      test_df = test_df.drop(columns=['TMP'])\n",
        "\n",
        "\n",
        "    # 인코딩\n",
        "    PK = ['sleep_date', 'lifelog_date', 'subject_id']\n",
        "    encoder = LabelEncoder()\n",
        "    categorical_features = [i for i in train_df.select_dtypes(include=['object', 'category']).columns if i not in PK+['pk']]\n",
        "    for col in categorical_features:\n",
        "        print(col)\n",
        "        train_df[col] = encoder.fit_transform(train_df[col])\n",
        "        test_df[col] = encoder.fit_transform(test_df[col])\n",
        "\n",
        "    # X\n",
        "    X = train_df.drop(columns=PK + all_targets)\n",
        "    test_X = test_df.drop(columns=PK + all_targets)\n",
        "    print(f'# X shape: {X.shape}')\n",
        "    print(f'# test_X shape: {test_X.shape}')\n",
        "\n",
        "    print('\\n STEP1: 실험 결과 확인')\n",
        "    print(\"=============== Validation Results ==============\")\n",
        "    total_avg_f1s = []\n",
        "    val_f1 = []\n",
        "    binary_val_preds = {}\n",
        "    multiclass_val_preds = {}\n",
        "    binary_test_preds = {}\n",
        "    multiclass_test_preds = {}\n",
        "    test_preds = {}\n",
        "\n",
        "    # Find optimal weights\n",
        "    best_weights = []\n",
        "    best_scores = []\n",
        "\n",
        "    for col in targets_binary:\n",
        "\n",
        "\n",
        "        # binary\n",
        "        y = train_df[col]\n",
        "\n",
        "        valid_ids['pk'] = valid_ids['subject_id']+valid_ids['sleep_date']\n",
        "        train_df['pk'] = train_df['subject_id']+train_df['sleep_date']\n",
        "\n",
        "        X_valid = train_df.loc[train_df['pk'].isin(valid_ids['pk']),X.columns.tolist()].reset_index(drop=True).copy()\n",
        "        X_train = train_df.loc[~train_df['pk'].isin(valid_ids['pk']),X.columns.tolist()].reset_index(drop=True).copy()\n",
        "        y_valid = train_df.loc[train_df['pk'].isin(valid_ids['pk']),y.name].reset_index(drop=True).copy()\n",
        "        y_train = train_df.loc[~train_df['pk'].isin(valid_ids['pk']),y.name].reset_index(drop=True).copy()\n",
        "\n",
        "        # ---------------------------------------------------------------------------------\n",
        "\n",
        "        from sklearn.inspection import permutation_importance\n",
        "\n",
        "        feature_names = X.columns.tolist()\n",
        "\n",
        "        xgb_params = {\n",
        "            'n_estimators': 1000,\n",
        "            'learning_rate': 0.01,\n",
        "            'max_depth': 6,\n",
        "            'min_child_weight': 1,\n",
        "            'subsample': 0.8,\n",
        "            'colsample_bytree': 0.8,\n",
        "            'random_state': random_state\n",
        "        }\n",
        "\n",
        "        # Train XGBoost\n",
        "        xgb_model = XGBClassifier(**xgb_params)\n",
        "        xgb_model.fit(X_train, y_train)\n",
        "\n",
        "        # 순열 중요도 계산\n",
        "        result = permutation_importance(\n",
        "            xgb_model,\n",
        "            X_valid,\n",
        "            y_valid,\n",
        "            n_repeats=3,          # 안정적인 결과를 위해 30회 반복\n",
        "            random_state=42,\n",
        "            scoring='f1'\n",
        "        )\n",
        "\n",
        "        # 중요도 정렬 (평균 중요도 기준 내림차순)\n",
        "        sorted_idx = result.importances_mean.argsort()[::-1]\n",
        "\n",
        "        ### 상위 30개 변수만 선택 ###\n",
        "        # n_top_features = 30  # 시각화할 변수 수\n",
        "        top_indices = sorted_idx[:n_top_features]  # 상위 30개 인덱스\n",
        "\n",
        "        # 시각화 (상위 30개만)\n",
        "        plt.figure(figsize=(12, 10))  # 크기 조정\n",
        "\n",
        "        # 박스플롯 생성\n",
        "        boxplot = plt.boxplot(\n",
        "            result.importances[top_indices].T,\n",
        "            vert=False,\n",
        "            labels=np.array(feature_names)[top_indices],\n",
        "            patch_artist=True,\n",
        "            boxprops=dict(facecolor='lightgreen', alpha=0.8),\n",
        "            whiskerprops=dict(color='gray', linestyle='-'),\n",
        "            medianprops=dict(color='red', linewidth=2)\n",
        "        )\n",
        "\n",
        "        # 중요도 0 기준선\n",
        "        plt.axvline(x=0, color='blue', linestyle='--', alpha=0.7, linewidth=1.5)\n",
        "\n",
        "        # 레이블 및 제목\n",
        "        plt.title(f\"Top {n_top_features} Features by Permutation Importance (F1-score)\",\n",
        "                  fontsize=16, pad=20)\n",
        "        plt.xlabel(\"F1-score Decrease after Permutation\", fontsize=12)\n",
        "        plt.ylabel(\"Features\", fontsize=12)\n",
        "\n",
        "        # 그리드 추가\n",
        "        plt.grid(axis='x', linestyle='--', alpha=0.4)\n",
        "\n",
        "        # 변수명 가독성 향상\n",
        "        plt.yticks(fontsize=10)\n",
        "        plt.tight_layout()\n",
        "\n",
        "        # 상위 30개 변수 중요도 값 출력\n",
        "        print(f\"\\nTop {n_top_features} Features:\")\n",
        "        for i, idx in enumerate(top_indices):\n",
        "            imp_mean = result.importances_mean[idx]\n",
        "            imp_std = result.importances_std[idx]\n",
        "            rank = i + 1\n",
        "            print(f\"#{rank:2d} {feature_names[idx]:<25}: {imp_mean:.4f} ± {imp_std:.4f}\")\n",
        "\n",
        "        plt.show()\n",
        "\n",
        "        vi_df = pd.DataFrame({\n",
        "            '변수명':np.array(feature_names)[sorted_idx]\n",
        "            ,'중요도':result.importances_mean[sorted_idx]\n",
        "        })\n",
        "\n",
        "        xfeatures = vi_df.loc[vi_df['중요도']>0,'변수명'].tolist()\n",
        "\n",
        "        # ---------------------------------------------------------------------------------\n",
        "\n",
        "        X_valid = train_df.loc[train_df['pk'].isin(valid_ids['pk']),xfeatures].reset_index(drop=True).copy()\n",
        "        X_train = train_df.loc[~train_df['pk'].isin(valid_ids['pk']),xfeatures].reset_index(drop=True).copy()\n",
        "        y_valid = train_df.loc[train_df['pk'].isin(valid_ids['pk']),y.name].reset_index(drop=True).copy()\n",
        "        y_train = train_df.loc[~train_df['pk'].isin(valid_ids['pk']),y.name].reset_index(drop=True).copy()\n",
        "\n",
        "        # Get parameters for both models\n",
        "        lgb_params = common_params[col].copy()\n",
        "        lgb_params['random_state'] = random_state\n",
        "\n",
        "        xgb_params = {\n",
        "            'n_estimators': 1000,\n",
        "            'learning_rate': 0.01,\n",
        "            'max_depth': 6,\n",
        "            'min_child_weight': 1,\n",
        "            'subsample': 0.8,\n",
        "            'colsample_bytree': 0.8,\n",
        "            'random_state': random_state\n",
        "        }\n",
        "\n",
        "        # Train LightGBM\n",
        "        lgb_model = LGBMClassifier(**lgb_params)\n",
        "        lgb_model.fit(X_train, y_train)\n",
        "\n",
        "        # Train XGBoost\n",
        "        xgb_model = XGBClassifier(**xgb_params)\n",
        "        xgb_model.fit(X_train, y_train)\n",
        "\n",
        "        tabpfn_params = {\n",
        "            'device': 'cuda'\n",
        "        }\n",
        "\n",
        "        # Train TabPFN\n",
        "        tabpfn_model = TabPFNClassifier(**tabpfn_params)\n",
        "        tabpfn_model.fit(X_train, y_train)\n",
        "        tab_pred_valid = tabpfn_model.predict_proba(X_valid.values)[:, 1]\n",
        "\n",
        "        lgb_pred_valid = lgb_model.predict_proba(X_valid)[:, 1]\n",
        "        xgb_pred_valid = xgb_model.predict_proba(X_valid)[:, 1]\n",
        "\n",
        "        pred_valid = (lgb_A * lgb_pred_valid + xgb_B * xgb_pred_valid + tab_C * tab_pred_valid > 0.5).astype(int)\n",
        "\n",
        "        f1 = f1_score(y_valid, pred_valid, average='macro')\n",
        "        val_f1.append(f1)\n",
        "\n",
        "        # Store predictions\n",
        "        binary_val_preds[col] = {\n",
        "            'lgb': lgb_pred_valid,\n",
        "            'xgb': xgb_pred_valid,\n",
        "            'tab': tab_pred_valid,\n",
        "            'true': y_valid\n",
        "        }\n",
        "\n",
        "\n",
        "\n",
        "    # multiclass\n",
        "    y = train_df[target_multiclass]\n",
        "    X_valid = train_df.loc[train_df['pk'].isin(valid_ids['pk']),X.columns.tolist()].reset_index(drop=True).copy()\n",
        "    X_train = train_df.loc[~train_df['pk'].isin(valid_ids['pk']),X.columns.tolist()].reset_index(drop=True).copy()\n",
        "    y_valid = train_df.loc[train_df['pk'].isin(valid_ids['pk']),y.name].reset_index(drop=True).copy()\n",
        "    y_train = train_df.loc[~train_df['pk'].isin(valid_ids['pk']),y.name].reset_index(drop=True).copy()\n",
        "\n",
        "    # Get parameters for both models\n",
        "    lgb_params = common_params['S1'].copy()\n",
        "    lgb_params['random_state'] = random_state\n",
        "\n",
        "    xgb_params = {\n",
        "        'n_estimators': 1000,\n",
        "        'learning_rate': 0.01,\n",
        "        'max_depth': 6,\n",
        "        'min_child_weight': 1,\n",
        "        'subsample': 0.8,\n",
        "        'colsample_bytree': 0.8,\n",
        "        'random_state': random_state\n",
        "    }\n",
        "\n",
        "    # 클래스 weight 계산\n",
        "    classes = np.unique(y_train)\n",
        "    weights = compute_class_weight(class_weight='balanced', classes=classes, y=y_train)\n",
        "    class_weights = dict(zip(classes, weights))\n",
        "\n",
        "    # 각 샘플에 대해 weight 매핑\n",
        "    w_train = pd.Series(y_train).map(class_weights)\n",
        "    w_train = compute_sample_weight(class_weight='balanced', y=y_train)\n",
        "\n",
        "    # Train LightGBM\n",
        "    lgb_model = LGBMClassifier(**lgb_params, objective='multiclass', num_class=3)\n",
        "    lgb_model.fit(X_train, y_train, sample_weight=w_train)\n",
        "\n",
        "    # Train XGBoost\n",
        "    xgb_model = XGBClassifier(**xgb_params, objective='multi:softmax', num_class=3)\n",
        "    xgb_model.fit(X_train, y_train,sample_weight=w_train)\n",
        "\n",
        "    tabpfn_params = {\n",
        "        'device': 'cuda'\n",
        "    }\n",
        "\n",
        "    # Train TabPFN\n",
        "    tabpfn_model = TabPFNClassifier(**tabpfn_params)\n",
        "    tabpfn_model.fit(X_train, y_train)\n",
        "\n",
        "    # Get predictions and ensemble\n",
        "    lgb_pred_valid = lgb_model.predict_proba(X_valid)\n",
        "    xgb_pred_valid = xgb_model.predict_proba(X_valid)\n",
        "    tab_pred_valid = tabpfn_model.predict_proba(X_valid.values)\n",
        "\n",
        "    pred_valid = np.argmax(lgb_A * lgb_pred_valid + xgb_B * xgb_pred_valid + tab_C * tab_pred_valid, axis=1)\n",
        "\n",
        "    f1 = f1_score(y_valid, pred_valid, average='macro')\n",
        "    val_f1.append(f1)\n",
        "\n",
        "    multiclass_val_preds = {\n",
        "        'lgb': lgb_pred_valid,\n",
        "        'xgb': xgb_pred_valid,\n",
        "        'tab': tab_pred_valid,\n",
        "        'true': y_valid\n",
        "    }\n",
        "\n",
        "    # Generate all possible weight combinations that sum to 1\n",
        "    step = 0.1\n",
        "    for lgb_A in np.arange(0, 1.1, step):\n",
        "        for xgb_B in np.arange(0, 1.1 - lgb_A, step):\n",
        "            for tab_C in np.arange(0, 1.1 - lgb_A - xgb_B, step):\n",
        "                TOT = 1 - (lgb_A + xgb_B + tab_C)\n",
        "                if TOT == 0:\n",
        "                    weights = (lgb_A, xgb_B, tab_C)\n",
        "                    val_scores = []\n",
        "\n",
        "                    # Binary targets\n",
        "                    for col in targets_binary:\n",
        "                        preds = binary_val_preds[col]\n",
        "                        ensemble_pred = (lgb_A * preds['lgb'] + xgb_B * preds['xgb'] + tab_C * preds['tab'] > 0.5).astype(int)\n",
        "                        f1 = f1_score(preds['true'], ensemble_pred, average='macro')\n",
        "                        val_scores.append(f1)\n",
        "                        # print(f\" Validation Score {col}:{f1:.4f}\")\n",
        "\n",
        "                    # Multiclass target\n",
        "                    preds = multiclass_val_preds\n",
        "                    ensemble_pred = np.argmax(lgb_A * preds['lgb'] + xgb_B * preds['xgb'] + tab_C * preds['tab'] , axis=1)\n",
        "                    f1 = f1_score(preds['true'], ensemble_pred, average='macro')\n",
        "                    # print(f\" Validation Score S1:{f1:.4f}\")\n",
        "                    val_scores.append(f1)\n",
        "\n",
        "                    avg_score = np.mean(val_scores)\n",
        "                    best_weights.append(weights)\n",
        "                    best_scores.append(avg_score)\n",
        "\n",
        "                    # print(f\"Average Validation Score: {avg_score:.4f}\")\n",
        "\n",
        "    # Sort results and get top 3\n",
        "    sorted_indices = np.argsort(best_scores)[::-1]\n",
        "    top_3_weights = [best_weights[i] for i in sorted_indices]\n",
        "    top_3_scores = [best_scores[i] for i in sorted_indices]\n",
        "\n",
        "    # print(\"\\nTop All Weight Combinations:\")\n",
        "    # for i, (weights, score) in enumerate(zip(top_3_weights, top_3_scores)):\n",
        "    #     print(f\"Rank {i+1}: lgb_A={weights[0]:.1f}, xgb_B={weights[1]:.1f}, tab_C={weights[2]:.1f} - Score: {score:.4f}\")\n",
        "\n",
        "    avg_f1 = np.mean(val_f1)\n",
        "    total_avg_f1s.append(avg_f1)\n",
        "    detail = \" \".join([f\"{name}({tname}):{score:.4f}\" for name, tname, score in zip(targets_binary + [target_multiclass], targets_binary_name + ['S1'], val_f1)])\n",
        "    print(f\" 평균 F1: {avg_f1:.4f} / [상세] {detail}\")\n",
        "    print(f\"# 전체 평균 F1: {np.mean(total_avg_f1s):.4f}\")\n",
        "    print(\"================================================\")\n",
        "\n",
        "    # ------------------------------------------ modoling with 100% train & no valid --------------------------------------------------------------------\n",
        "\n",
        "    print('\\n STEP2: 전체 데이터로 모델 재학습')\n",
        "    print(\"====== modeling with 100% train & no valid =====\")\n",
        "\n",
        "    # binary\n",
        "    binary_preds = {}\n",
        "    binary_preds_proba = {}\n",
        "    for col in targets_binary:\n",
        "        # Get parameters for both models\n",
        "        lgb_params = common_params[col].copy()\n",
        "        lgb_params['random_state'] = random_state\n",
        "\n",
        "        xgb_params = {\n",
        "            'n_estimators': 1000,\n",
        "            'learning_rate': 0.01,\n",
        "            'max_depth': 6,\n",
        "            'min_child_weight': 1,\n",
        "            'subsample': 0.8,\n",
        "            'colsample_bytree': 0.8,\n",
        "            'random_state': random_state\n",
        "        }\n",
        "\n",
        "        y = train_df[col]\n",
        "\n",
        "        is_multiclass = False\n",
        "\n",
        "        # Train LightGBM\n",
        "        lgb_model = LGBMClassifier(**lgb_params)\n",
        "        lgb_model.fit(X, y)\n",
        "\n",
        "        # Train XGBoost\n",
        "        xgb_model = XGBClassifier(**xgb_params)\n",
        "        xgb_model.fit(X, y)\n",
        "\n",
        "        tabpfn_params = {\n",
        "            'device': 'cuda'\n",
        "        }\n",
        "\n",
        "        # Train TabPFN\n",
        "        tabpfn_model = TabPFNClassifier(**tabpfn_params)\n",
        "        tabpfn_model.fit(X, y)\n",
        "\n",
        "        tab_pred = tabpfn_model.predict_proba(test_X)[:, 1]\n",
        "        lgb_pred = lgb_model.predict_proba(test_X)[:, 1]\n",
        "        xgb_pred = xgb_model.predict_proba(test_X)[:, 1]\n",
        "\n",
        "        binary_preds[col] = (lgb_A * lgb_pred + xgb_B * xgb_pred + tab_C * tab_pred > 0.5).astype(int)\n",
        "\n",
        "        # Store predictions\n",
        "        binary_test_preds[col] = {\n",
        "            'lgb': lgb_pred,\n",
        "            'xgb': xgb_pred,\n",
        "            'tab': tab_pred\n",
        "        }\n",
        "\n",
        "        # Feature importance (using LightGBM's importance)\n",
        "        fi_df = pd.DataFrame({'feature': X.columns, 'importance': lgb_model.feature_importances_})\n",
        "        top10 = fi_df.sort_values(by='importance', ascending=False).head(10)\n",
        "        feat_str = \", \".join([f\"{row['feature']}({int(row['importance'])})\" for _, row in top10.iterrows()])\n",
        "        print(f\"[{col}] {feat_str}\")\n",
        "\n",
        "\n",
        "    # multiclass\n",
        "    y = train_df['S1']\n",
        "\n",
        "    # Get parameters for both models\n",
        "    lgb_params = common_params['S1'].copy()\n",
        "    lgb_params['random_state'] = random_state\n",
        "\n",
        "    xgb_params = {\n",
        "        'n_estimators': 1000,\n",
        "        'learning_rate': 0.01,\n",
        "        'max_depth': 6,\n",
        "        'min_child_weight': 1,\n",
        "        'subsample': 0.8,\n",
        "        'colsample_bytree': 0.8,\n",
        "        'random_state': random_state\n",
        "    }\n",
        "\n",
        "    # 클래스 weight 계산\n",
        "    classes = np.unique(y)\n",
        "    weights = compute_class_weight(class_weight='balanced', classes=classes, y=y)\n",
        "    class_weights = dict(zip(classes, weights))\n",
        "\n",
        "    # 각 샘플에 대해 weight 매핑\n",
        "    w_train = pd.Series(y).map(class_weights)\n",
        "    w_train = compute_sample_weight(class_weight='balanced', y=y)\n",
        "\n",
        "    is_multiclass = True\n",
        "\n",
        "    # Train LightGBM\n",
        "    lgb_model = LGBMClassifier(**lgb_params, objective='multiclass', num_class=3)\n",
        "    lgb_model.fit(X, y, sample_weight=w_train)\n",
        "\n",
        "    # Train XGBoost\n",
        "    xgb_model = XGBClassifier(**xgb_params, objective='multi:softmax', num_class=3)\n",
        "    xgb_model.fit(X, y, sample_weight=w_train)\n",
        "\n",
        "    tabpfn_params = {\n",
        "        'device': 'cuda'\n",
        "    }\n",
        "\n",
        "     # Train TabPFN\n",
        "    tabpfn_model = TabPFNClassifier(**tabpfn_params)\n",
        "    tabpfn_model.fit(X, y)\n",
        "\n",
        "    # Get predictions and ensemble\n",
        "    lgb_pred = lgb_model.predict_proba(test_X)\n",
        "    xgb_pred = xgb_model.predict_proba(test_X)\n",
        "    tab_pred = tabpfn_model.predict_proba(test_X)\n",
        "\n",
        "    multiclass_test_preds = {\n",
        "        'lgb': lgb_pred,\n",
        "        'xgb': xgb_pred,\n",
        "        'tab': tab_pred\n",
        "    }\n",
        "\n",
        "    multiclass_pred = np.argmax(lgb_A * lgb_pred + xgb_B * xgb_pred + tab_C * tab_pred, axis=1)\n",
        "    multiclass_pred_proba = lgb_A * lgb_pred + xgb_B * xgb_pred + tab_C * tab_pred\n",
        "\n",
        "    # Feature importance\n",
        "    fi_df = pd.DataFrame({'feature': X.columns, 'importance': lgb_model.feature_importances_})\n",
        "    top10 = fi_df.sort_values(by='importance', ascending=False).head(10)\n",
        "    feat_str = \", \".join([f\"{row['feature']}({int(row['importance'])})\" for _, row in top10.iterrows()])\n",
        "    print(f\"[S1] {feat_str}\")\n",
        "\n",
        "    # 예측 저장\n",
        "    submission_final['S1'] = multiclass_pred\n",
        "    for col in targets_binary:\n",
        "      submission_final[col] = binary_preds[col]\n",
        "    submission_final = submission_final[['subject_id', 'sleep_date', 'lifelog_date', 'Q1', 'Q2', 'Q3', 'S1', 'S2', 'S3']]\n",
        "    fname = f\"submission_{np.mean(total_avg_f1s)}.csv\"\n",
        "    submission_final.to_csv(fname, index=False)\n",
        "    print(f\"# {fname} 저장 완료\")\n",
        "    print(f\"# submission shape:{submission_final.shape}\")\n",
        "    print(\"================================================\")\n",
        "\n",
        "    # ---------------------------------------- Top 10 Weight Combinations ----------------------------------------\n",
        "\n",
        "    submission_final_dict = {}\n",
        "    print(\"\\nTop 10 Weight Combinations:\")\n",
        "    for i, (weights, score) in enumerate(zip(top_3_weights[:10], top_3_scores[:10])):\n",
        "\n",
        "        print(f\"Rank {i+1}: lgb_A={weights[0]:.1f}, xgb_B={weights[1]:.1f}, tab_C={weights[2]:.1f} - Score: {score:.4f}\")\n",
        "        lgb_A, xgb_B, tab_C = weights\n",
        "\n",
        "        # Binary predictions\n",
        "        for col in targets_binary:\n",
        "            preds = binary_test_preds[col]\n",
        "            ensemble_pred = (lgb_A * preds['lgb'] + xgb_B * preds['xgb'] + tab_C * preds['tab'] > 0.5).astype(int)\n",
        "            submission_final[col] = ensemble_pred\n",
        "\n",
        "        # Multiclass prediction\n",
        "        preds = multiclass_test_preds\n",
        "        ensemble_pred = np.argmax(lgb_A * preds['lgb'] + xgb_B * preds['xgb'] + tab_C * preds['tab'], axis=1)\n",
        "        submission_final['S1'] = ensemble_pred\n",
        "\n",
        "        # 저장\n",
        "        submission_final_dict[i] = submission_final.copy()\n",
        "        fname = f\"submission_top{i+1}_{score:.4f}.csv\"\n",
        "        submission_final_dict[i].to_csv(fname, index=False)\n",
        "        print(f\"Saved submission to {fname}\")\n",
        "\n",
        "\n",
        "    # 모델별 예측결과 비율 비교\n",
        "    a11 = train_df[['Q1', 'Q2', 'Q3', 'S1', 'S2', 'S3']].sum()\n",
        "    a13 = train_df[['Q1', 'Q2', 'Q3', 'S1', 'S2', 'S3']].apply(len)\n",
        "    a12 = train_df[['Q1', 'Q2', 'Q3', 'S1', 'S2', 'S3']].mean()\n",
        "    a21 = submission_final_dict[0][['Q1', 'Q2', 'Q3', 'S1', 'S2', 'S3']].sum()\n",
        "    a23 = submission_final_dict[0][['Q1', 'Q2', 'Q3', 'S1', 'S2', 'S3']].apply(len)\n",
        "    a22 = submission_final_dict[0][['Q1', 'Q2', 'Q3', 'S1', 'S2', 'S3']].mean()\n",
        "    result = pd.concat([a11, a13, a12, a21, a23, a22], axis=1)\n",
        "    result.columns = ['학습sum','학습len','학습mean','테스트sum','테스트len','테스트mean']\n",
        "    print('\\n STEP3: 예측결과 비교표')\n",
        "    display(result)\n",
        "\n",
        "    oof_result = []\n",
        "\n",
        "    return submission_final_dict[0], oof_result"
      ]
    },
    {
      "cell_type": "markdown",
      "source": [
        "### seed"
      ],
      "metadata": {
        "id": "6Xslr-kVG1o3"
      },
      "id": "6Xslr-kVG1o3"
    },
    {
      "cell_type": "code",
      "source": [
        "def seed_everything(seed):\n",
        "    random.seed(seed)\n",
        "    os.environ['PYTHONHASHSEED'] = str(seed)\n",
        "    np.random.seed(seed)\n",
        "    torch.manual_seed(seed)\n",
        "    torch.cuda.manual_seed(seed)\n",
        "    torch.backends.cudnn.deterministic = True\n",
        "    torch.backends.cudnn.benchmark = False\n",
        "\n",
        "seed_everything(1)"
      ],
      "metadata": {
        "id": "Ly49bIaKG0-O"
      },
      "id": "Ly49bIaKG0-O",
      "execution_count": 25,
      "outputs": []
    },
    {
      "cell_type": "markdown",
      "source": [
        "### ============================"
      ],
      "metadata": {
        "id": "lj8uKFxaKGbI"
      },
      "id": "lj8uKFxaKGbI"
    },
    {
      "cell_type": "code",
      "execution_count": 25,
      "id": "7vvLSkwooZ0h",
      "metadata": {
        "id": "7vvLSkwooZ0h"
      },
      "outputs": [],
      "source": []
    },
    {
      "cell_type": "code",
      "source": [],
      "metadata": {
        "id": "Pr98Y0D0KIPz"
      },
      "id": "Pr98Y0D0KIPz",
      "execution_count": 25,
      "outputs": []
    },
    {
      "cell_type": "code",
      "execution_count": 25,
      "id": "U36LFTRioZ-g",
      "metadata": {
        "id": "U36LFTRioZ-g"
      },
      "outputs": [],
      "source": []
    },
    {
      "cell_type": "code",
      "execution_count": 25,
      "id": "sg6Eiq-vOTr1",
      "metadata": {
        "id": "sg6Eiq-vOTr1"
      },
      "outputs": [],
      "source": []
    },
    {
      "cell_type": "markdown",
      "id": "HwoUMZO4LMb1",
      "metadata": {
        "id": "HwoUMZO4LMb1"
      },
      "source": [
        "### 📦 모델 학습"
      ]
    },
    {
      "cell_type": "code",
      "execution_count": null,
      "id": "bf3543b7",
      "metadata": {
        "colab": {
          "base_uri": "https://localhost:8080/",
          "height": 1000
        },
        "id": "bf3543b7",
        "outputId": "486af50a-6cda-45c7-f32f-d2b6b4269309"
      },
      "outputs": [
        {
          "output_type": "stream",
          "name": "stdout",
          "text": [
            "light_week_type_lag1\n",
            "weekday\n",
            "week_type\n",
            "week_type_lag1\n",
            "activehour_top_bssid\n",
            "beforebed_top_bssid\n",
            "# X shape: (450, 343)\n",
            "# test_X shape: (250, 343)\n",
            "\n",
            " STEP1: 실험 결과 확인\n",
            "=============== Validation Results ==============\n",
            "\n",
            "Top 50 Features:\n",
            "# 1 beforebed_통화_time        : 0.0289 ± 0.0134\n",
            "# 2 Q1_te2                   : 0.0256 ± 0.0089\n",
            "# 3 beforebed_전화_time        : 0.0233 ± 0.0118\n",
            "# 4 sleep_time_mean7d        : 0.0169 ± 0.0119\n",
            "# 5 sleep_duration_min_std3d : 0.0084 ± 0.0119\n",
            "# 6 light_wake_time_ratio    : 0.0084 ± 0.0119\n",
            "# 7 m_activity_met_240min_std_16h00m: 0.0050 ± 0.0070\n",
            "# 8 wake_time                : 0.0050 ± 0.0070\n",
            "# 9 sleep_charging_transitions: 0.0033 ± 0.0168\n",
            "#10 light_avg_sleep_duration : 0.0000 ± 0.0000\n",
            "#11 light_sleep_time_diff    : 0.0000 ± 0.0000\n",
            "#12 light_wake_time_diff     : 0.0000 ± 0.0000\n",
            "#13 light_sleep_duration_diff: 0.0000 ± 0.0000\n",
            "#14 light_sleep_time_ratio   : 0.0000 ± 0.0000\n",
            "#15 light_sleep_duration_ratio: 0.0000 ± 0.0000\n",
            "#16 sleep_duration_vs_weekday_avg: 0.0000 ± 0.0000\n",
            "#17 light_sleep_time_diff_lag1: 0.0000 ± 0.0000\n",
            "#18 light_wake_time_diff_lag1: 0.0000 ± 0.0000\n",
            "#19 light_sleep_duration_diff_lag1: 0.0000 ± 0.0000\n",
            "#20 light_sleep_time_lag2    : 0.0000 ± 0.0000\n",
            "#21 light_wake_time_lag2     : 0.0000 ± 0.0000\n",
            "#22 light_sleep_duration_lag2: 0.0000 ± 0.0000\n",
            "#23 light_sleep_time_diff_lag2: 0.0000 ± 0.0000\n",
            "#24 light_wake_time_diff_lag2: 0.0000 ± 0.0000\n",
            "#25 light_sleep_duration_diff_lag2: 0.0000 ± 0.0000\n",
            "#26 light_week_type_lag1     : 0.0000 ± 0.0000\n",
            "#27 is_sleep_duration_change_large: 0.0000 ± 0.0000\n",
            "#28 light_min                : 0.0000 ± 0.0000\n",
            "#29 light_day_mean           : 0.0000 ± 0.0000\n",
            "#30 light_night_ratio        : 0.0000 ± 0.0000\n",
            "#31 sleep_duration_min_mLight: 0.0000 ± 0.0000\n",
            "#32 sleep_time_min_mLight    : 0.0000 ± 0.0000\n",
            "#33 wake_time_min_mLight     : 0.0000 ± 0.0000\n",
            "#34 hour_slept_mLight        : 0.0000 ± 0.0000\n",
            "#35 hour_woke_up_mLight      : 0.0000 ± 0.0000\n",
            "#36 sleep_duration_interp_mLight: 0.0000 ± 0.0000\n",
            "#37 light_avg_wake_time      : 0.0000 ± 0.0000\n",
            "#38 light_rolling_wake_time_3d: 0.0000 ± 0.0000\n",
            "#39 light_rolling_sleep_duration_3d: 0.0000 ± 0.0000\n",
            "#40 light_sleep_time         : 0.0000 ± 0.0000\n",
            "#41 light_wake_time          : 0.0000 ± 0.0000\n",
            "#42 light_sleep_duration_min : 0.0000 ± 0.0000\n",
            "#43 light_weekday            : 0.0000 ± 0.0000\n",
            "#44 light_month              : 0.0000 ± 0.0000\n",
            "#45 light_avg_sleep_time     : 0.0000 ± 0.0000\n",
            "#46 light_rolling_sleep_time_2d: 0.0000 ± 0.0000\n",
            "#47 sleep_duration_hour_mLight: 0.0000 ± 0.0000\n",
            "#48 beforebed_min_rssi       : 0.0000 ± 0.0000\n",
            "#49 activehour_통화_time       : 0.0000 ± 0.0000\n",
            "#50 activehour_전화_time       : 0.0000 ± 0.0000\n"
          ]
        },
        {
          "output_type": "display_data",
          "data": {
            "text/plain": [
              "<Figure size 1200x1000 with 1 Axes>"
            ],
            "image/png": "[encoded data removed]"
          },
          "metadata": {}
        }
      ],
      "source": [
        "%%time\n",
        "\n",
        "# 공통 하이퍼파라미터\n",
        "common_params = {\n",
        "  'n_estimators': 5000,\n",
        "  \"learning_rate\": 0.01,\n",
        "  # 'min_data_in_leaf':2,\n",
        "  # 'bagging_fraction':0.9,\n",
        "  # 'feature_fraction':0.6,\n",
        "  'lambda_l1': 5,\n",
        "  'lambda_l2': 1,\n",
        "  # 'max_depth': 4,\n",
        "  'n_jobs': -1,\n",
        "  'verbosity': -1\n",
        "}\n",
        "\n",
        "# 모델별 세부 하이퍼파라미터\n",
        "best_param_dict = {}\n",
        "best_param_dict['Q3'] = common_params\n",
        "best_param_dict['S1'] = common_params\n",
        "best_param_dict['S2'] = common_params\n",
        "best_param_dict['S3'] = common_params\n",
        "best_param_dict['Q1'] = common_params\n",
        "best_param_dict['Q2'] = common_params\n",
        "\n",
        "\"\"\"\n",
        "◎ valid   : 0.6492\n",
        "◎ public  : 0.63775\n",
        "◎ weights : Rank 1: lgb_A=0.2, xgb_B=0.4, tabpfn_C=0.0, llm_D=0.4\n",
        "\n",
        " 평균 F1: 0.6468 / [상세] Q1(기상직후수면질):0.7103 Q2(취침전신체적피로):0.7867 Q3(취침전스트레스):0.5833 S2(수면효율):0.5960 S3(수면잠들기시간):0.6931 S1(S1):0.5113\n",
        "# 전체 평균 F1: 0.6468\n",
        "================================================\n",
        "\n",
        " STEP2: 전체 데이터로 모델 재학습\n",
        "====== modeling with 100% train & no valid =====\n",
        "[Q1] Q1_te2(341), wake_time(260), beforebed_통화_time(181), Q1_te(178), mlight_first_wakeup_minutes(173), activehour_통화_time(157), 추정수면효율(155), activehour_total_screen_time(145), lights_off_time(140), sleep_hour_mean_speed(138)\n",
        "[Q2] Q2_te2(638), activehour_total_screen_time(207), sleep_duration_min_std3d(198), active_hour_std_hr(197), beforebed_unique_bssid_count(196), activehour_screen_time_vs_avg_pct(174), beforebed_max_rssi(173), sleep_duration_vs_weekday_avg(151), wake_time_std7d(146), Q2_te(145)\n",
        "[Q3] Q3_te2(615), light_max(227), activehour_screen_time_vs_avg_pct(150), beforebed_scan_count(149), m_activity_met_240min_sum_04h00m(143), mlight_first_wakeup_minutes(137), walking_minutes(135), beforebed_메신저_time(128), free_hour_unknown_ratio(125), active_hour_distance_x(121)\n",
        "[S2] S2_te(1825), S2_te2(279), free_hour_rssi_mean(210), sleep_hour_mean_speed(199), light_sleep_time_lag1(177), sleep_duration_vs_weekday_avg(173), m_activity_240min_std_12h00m(131), activehour_전화_time(126), sleep_duration_lag2(119), work_hour_rssi_mean(115)\n",
        "[S3] S3_te(1843), S3_te2(230), wake_time_std2d(181), light_night_mean(168), wake_time_ratio_std3d(163), sleep_time_diff_lag2(150), light_rolling_wake_time_2d(125), sleep_time_min_mLight(116), m_activity_240min_std_08h00m(109), wake_time_std5d(108)\n",
        "[S1] avg_wake_time(1683), S1_te(496), sleep_duration_min(482), S1_te2(438), light_sleep_time_ratio(382), m_activity_met_240min_sum_04h00m(323), wake_time(314), light_sleep_time_diff(300), beforebed_total_screen_time(243), active_hour_burned_calories(234)\n",
        "# submission_0.6467863583854263.csv 저장 완료\n",
        "# submission shape:(250, 9)\n",
        "================================================\n",
        "\n",
        "Top 10 Weight Combinations:\n",
        "Rank 1: lgb_A=0.6, xgb_B=0.1, tab_C=0.3 - Score: 0.6571\n",
        "Saved submission to submission_top1_0.6571.csv\n",
        "Rank 2: lgb_A=0.3, xgb_B=0.5, tab_C=0.2 - Score: 0.6554\n",
        "Saved submission to submission_top2_0.6554.csv\n",
        "\n",
        " STEP3: 예측결과 비교표\n",
        "학습sum\t학습len\t학습mean\t테스트sum\t테스트len\t테스트mean\n",
        "Q1\t223\t450\t0.4956\t131\t250\t0.5240\n",
        "Q2\t253\t450\t0.5622\t150\t250\t0.6000\n",
        "Q3\t270\t450\t0.6000\t184\t250\t0.7360\n",
        "S1\t390\t450\t0.8667\t209\t250\t0.8360\n",
        "S2\t293\t450\t0.6511\t164\t250\t0.6560\n",
        "S3\t298\t450\t0.6622\t180\t250\t0.7200\n",
        "\n",
        "CPU times: user 35min 20s, sys: 3.18 s, total: 35min 23s\n",
        "Wall time: 5min 3s\n",
        "\"\"\"\n",
        "\n",
        "def sanitize_column_names(df):\n",
        "    df.columns = df.columns.str.replace(r'[^\\w]', '_', regex=True)\n",
        "    return df\n",
        "\n",
        "train = sanitize_column_names(train)\n",
        "test = sanitize_column_names(test)\n",
        "\n",
        "submission_final, oof_result = run_basemodel(train, test, valid_ids, best_param_dict, n_splits=5, n_top_features=50, random_state=41)"
      ]
    },
    {
      "cell_type": "code",
      "execution_count": null,
      "id": "s5N7SlvaLgh-",
      "metadata": {
        "id": "s5N7SlvaLgh-"
      },
      "outputs": [],
      "source": []
    },
    {
      "cell_type": "code",
      "execution_count": null,
      "id": "EHSoZgGiLgsd",
      "metadata": {
        "id": "EHSoZgGiLgsd"
      },
      "outputs": [],
      "source": []
    },
    {
      "cell_type": "markdown",
      "id": "nsZ0kEKjLerl",
      "metadata": {
        "id": "nsZ0kEKjLerl"
      },
      "source": [
        "### 📦 이전제출과 비교"
      ]
    },
    {
      "cell_type": "code",
      "execution_count": null,
      "id": "8d5e619e",
      "metadata": {
        "id": "8d5e619e",
        "colab": {
          "base_uri": "https://localhost:8080/"
        },
        "outputId": "97d041f8-42b4-4aac-8016-642493abd176"
      },
      "outputs": [
        {
          "output_type": "stream",
          "name": "stdout",
          "text": [
            "\n",
            "Top 10 files with smallest differences:\n",
            "01. submission_top3_0.6546.csv: 152 differences\n",
            "02. submission_top9_0.6516.csv: 152 differences\n",
            "03. submission_top2_0.6554.csv: 158 differences\n",
            "04. submission_top8_0.6517.csv: 158 differences\n",
            "05. submission_top10_0.6512.csv: 159 differences\n",
            "06. submission_top7_0.6522.csv: 160 differences\n",
            "07. submission_top6_0.6531.csv: 161 differences\n",
            "08. submission_top1_0.6571.csv: 164 differences\n",
            "09. submission_top5_0.6540.csv: 166 differences\n",
            "10. submission_top4_0.6540.csv: 167 differences\n",
            "11. submission_0.6467863583854263.csv: 201 differences\n"
          ]
        }
      ],
      "source": [
        "from pathlib import Path\n",
        "\n",
        "# Reference file\n",
        "reference_file = '/content/drive/MyDrive/data/ch2025_data_items/share/submissions/submission_top1_0.6492.csv'\n",
        "ref_df = pd.read_csv(reference_file)\n",
        "\n",
        "# Get all CSV files in data directory\n",
        "data_dir = Path('./')\n",
        "csv_files = list(data_dir.glob('*.csv'))\n",
        "\n",
        "# Store differences for each file\n",
        "differences = []\n",
        "\n",
        "for csv_file in csv_files:\n",
        "    if csv_file.name == os.path.basename(reference_file):\n",
        "        continue\n",
        "\n",
        "    # Read current file\n",
        "    current_df = pd.read_csv(csv_file)\n",
        "\n",
        "    # Calculate differences in specified columns\n",
        "    diff_count = 0\n",
        "    for col in ['Q1', 'Q2', 'Q3', 'S1', 'S2', 'S3']:\n",
        "        diff_count += (ref_df[col] != current_df[col]).sum()\n",
        "\n",
        "    differences.append((csv_file.name, diff_count))\n",
        "    # print(f\"File: {csv_file.name}, Differences: {diff_count}\")\n",
        "\n",
        "# Sort by difference count and get top 20\n",
        "differences.sort(key=lambda x: x[1])\n",
        "print(\"\\nTop 10 files with smallest differences:\")\n",
        "for i, (file_name, diff_count) in enumerate(differences[:20], 1):\n",
        "    print(f\"{str(i).zfill(2)}. {file_name}: {diff_count} differences\")"
      ]
    },
    {
      "cell_type": "code",
      "execution_count": null,
      "id": "29b4a176",
      "metadata": {
        "id": "29b4a176"
      },
      "outputs": [],
      "source": []
    },
    {
      "cell_type": "code",
      "execution_count": null,
      "id": "79079453",
      "metadata": {
        "id": "79079453"
      },
      "outputs": [],
      "source": []
    },
    {
      "cell_type": "code",
      "execution_count": null,
      "id": "ee90ed8f",
      "metadata": {
        "id": "ee90ed8f"
      },
      "outputs": [],
      "source": []
    },
    {
      "cell_type": "code",
      "execution_count": null,
      "id": "694fc8ae",
      "metadata": {
        "id": "694fc8ae"
      },
      "outputs": [],
      "source": []
    },
    {
      "cell_type": "code",
      "execution_count": null,
      "id": "8744d38a",
      "metadata": {
        "id": "8744d38a"
      },
      "outputs": [],
      "source": []
    },
    {
      "cell_type": "code",
      "execution_count": null,
      "id": "e496fd76",
      "metadata": {
        "id": "e496fd76"
      },
      "outputs": [],
      "source": []
    }
  ],
  "metadata": {
    "accelerator": "GPU",
    "colab": {
      "gpuType": "T4",
      "machine_shape": "hm",
      "toc_visible": true,
      "provenance": [],
      "include_colab_link": true
    },
    "kaggle": {
      "accelerator": "gpu",
      "dataSources": [
        {
          "datasetId": 7210916,
          "sourceId": 12085434,
          "sourceType": "datasetVersion"
        }
      ],
      "dockerImageVersionId": 31041,
      "isGpuEnabled": true,
      "isInternetEnabled": true,
      "language": "python",
      "sourceType": "notebook"
    },
    "kernelspec": {
      "display_name": "Python 3",
      "name": "python3"
    },
    "language_info": {
      "codemirror_mode": {
        "name": "ipython",
        "version": 3
      },
      "file_extension": ".py",
      "mimetype": "text/x-python",
      "name": "python",
      "nbconvert_exporter": "python",
      "pygments_lexer": "ipython3",
      "version": "3.11.11"
    },
    "papermill": {
      "default_parameters": {},
      "duration": 4148.996629,
      "end_time": "2025-06-07T13:22:50.273930",
      "environment_variables": {},
      "exception": null,
      "input_path": "__notebook__.ipynb",
      "output_path": "__notebook__.ipynb",
      "parameters": {},
      "start_time": "2025-06-07T12:13:41.277301",
      "version": "2.6.0"
    }
  },
  "nbformat": 4,
  "nbformat_minor": 5
}