{
  "cells": [
    {
      "cell_type": "markdown",
      "metadata": {
        "id": "cTgURBTcpY0Q"
      },
      "source": [
        "> title : 제 4회 ETRI 휴먼이해 인공지능 논문경진대회 <br>\n",
        "> author : hjy <br>"
      ]
    },
    {
      "cell_type": "markdown",
      "metadata": {
        "id": "2QhncbejZIfV"
      },
      "source": [
        "In our study, we used smartphones, smartwatches, sleep sensors, and self-recording apps to collect daily life logs and sleep health records of study participants in 2024.The data collection procedures and methods followed a similar approach to those used in previous studies. Here, we pu﻿blicly provide the following 12 data items, which comprise a total of 700 days' worth of lifelog data, strictly for non-commercial and academic research purposes only.\n",
        "- mACStatus: Indicates whether the smartphone is currently being charged.\n",
        "- mActivity: Value calculated by the Google Activity Recognition API.\n",
        "- mAmbience: Ambient sound identification labels and their respective probabilities.\n",
        "- mBle: Bluetooth devices around individual subject.\n",
        "- mGps: Multiple GPS coordinates measured within a single minute using the smartphone.\n",
        "- mLight: Ambient light measured by the smartphone.\n",
        "- mScreenStatus: Indicates whether the smartphone screen is in use.\n",
        "- mUsageStats: Indicates which apps were used on the smartphone and for how long.\n",
        "- mWifi: Wifi devices around individual subject.\n",
        "- wHr: Heart rate readings recorded by the smartwatch.\n",
        "- wLight: Ambient light measured by the smartwatch.\n",
        "- wPedo: Step data recorded by the smartwatch."
      ]
    },
    {
      "cell_type": "markdown",
      "metadata": {
        "id": "QkY5S7k0ZLFG"
      },
      "source": [
        "For the purpose of training a learning model to predict sleep health, fatigue, and stress, the following six metrics were derived from sleep sensor data and self-reported survey records. Each metric consists of values categorized into either two levels (0, 1) or three levels (0, 1, 2), depending on the specific metric. The detailed classification criteria for each metric's levels will be provided in a separate document.These\n",
        "metrics assign a value of 0 for sleep records that do not meet the recommended guidelines.For instance, the first questionnaire metric (Q1) is assigned a value of 1 on days when an\n",
        "individual’s self-reported sleep quality exceeds their average over the experimental period, and 0 when it\n",
        "falls below that average. Similarly, the second and third metrics (Q2 and Q3) are assigned a value of 0\n",
        "on days when the participant’s fatigue and stress levels, respectively, exceed their average, and a value of\n",
        "1 when these levels are below average.\n",
        "\n",
        "- Q1: Overall sleep quality as perceived by a subject immediately after waking up.\n",
        "- Q2: Physical fatigue of a subject just before sleep.\n",
        "- Q3: Stress level experienced by a subject just before sleep.\n",
        "- S1: Adherence to sleep guidelines for total sleep time (TST).\n",
        "- S2: Adherence to sleep guidelines for sleep efficiency (SE).\n",
        "- S3: Adherence to sleep guidelines for sleep onset latency (SOL, or SL).\n",
        "\n",
        "수면 건강, 피로, 스트레스 예측을 위한 학습 모델을 훈련시키기 위해, 수면 센서 데이터와 자기 보고식 설문 기록을 기반으로 다음의 6가지 지표를 도출했습니다.\n",
        "각 지표는 해당 항목에 따라 두 수준(0, 1) 또는 세 수준(0, 1, 2)으로 구분된 값을 가집니다.\n",
        "각 지표의 세부 분류 기준은 별도의 문서에서 제공될 예정입니다.\n",
        "\n",
        "- Q1: 기상 직후 본인이 인지한 전반적인 수면의 질\n",
        " - 0: 개인 평균 이하\n",
        " - 1: 개인 평균 이상\n",
        "- Q2: 취침 직전 본인이 느낀 신체적 피로 수준\n",
        " - 0: 높은 피로 수준\n",
        " - 1: 낮은 피로 수준\n",
        "- Q3: 취침 직전 본인이 느낀 스트레스 수준\n",
        " - 0: 높은 스트레스 수준\n",
        " - 1: 낮은 스트레스 수준\n",
        "- S1: 총 수면 시간(TST) 가이드라인을 준수했는지 3LEVELS\n",
        " - 0: 가이드라인 미준수\n",
        " - 1: 가이드라인 부분적 준수\n",
        " - 2: 가이드라인 완전 준수\n",
        "- S2: 수면 효율(SE) 가이드라인을 준수했는지 여부\n",
        "- (SE: 잠자리에 누워 있었던 전체 시간 대비, 실제로 잠든 시간의 비율)\n",
        " - 0: 가이드라인 미준수\n",
        " - 1: 가이드라인 준수\n",
        "- S3: 수면 잠들기 지연 시간(SOL 또는 SL) 가이드라인을 준수했는지 여부\n",
        "- (SOL: 잠자리에 누운 순간부터 실제로 잠드는 데까지 걸린 시간)\n",
        " - 0: 가이드라인 미준수\n",
        " - 1: 가이드라인 준수"
      ]
    },
    {
      "cell_type": "markdown",
      "metadata": {
        "id": "sDVNXLQtLU6X"
      },
      "source": [
        "### 📦 라이브러리"
      ]
    },
    {
      "cell_type": "code",
      "execution_count": 2,
      "metadata": {
        "id": "cFvEVmxWsRH4"
      },
      "outputs": [],
      "source": [
        "# import timm\n",
        "import pandas as pd\n",
        "import numpy as np\n",
        "import os\n",
        "import sys\n",
        "import matplotlib.pyplot as plt\n",
        "from datetime import datetime, timedelta\n",
        "import warnings\n",
        "from tqdm.auto import tqdm\n",
        "from collections import Counter\n",
        "from scipy.stats import entropy\n",
        "# from haversine import haversine  # 설치 필요: pip install haversine\n",
        "\n",
        "import re\n",
        "import ast\n",
        "from tqdm import tqdm  # ← 추가\n",
        "from math import radians, cos, sin, asin, sqrt\n",
        "from datetime import time\n",
        "from datetime import timedelta\n",
        "from functools import reduce\n",
        "from lightgbm import LGBMClassifier\n",
        "from sklearn.model_selection import StratifiedKFold\n",
        "from sklearn.metrics import f1_score\n",
        "import glob\n",
        "import random\n",
        "import matplotlib.pyplot as plt\n",
        "import seaborn as sns\n",
        "from sklearn.preprocessing import LabelEncoder\n",
        "from sklearn.preprocessing import StandardScaler\n",
        "from sklearn.metrics import roc_auc_score, roc_curve, f1_score\n",
        "from sklearn.model_selection import KFold, StratifiedKFold, train_test_split, cross_val_score\n",
        "import lightgbm as lgb\n",
        "import torch\n",
        "import torch.nn as nn\n",
        "import torch.nn.functional as F\n",
        "import torch.optim as optim\n",
        "from torch.utils.data import DataLoader, Dataset\n",
        "# from category_encoders import TargetEncoder\n",
        "from sklearn.model_selection import train_test_split\n",
        "from sklearn.metrics import f1_score\n",
        "from sklearn.preprocessing import LabelEncoder\n",
        "from lightgbm import LGBMClassifier, log_evaluation, early_stopping\n",
        "import pandas as pd\n",
        "import numpy as np\n",
        "import matplotlib.pyplot as plt\n",
        "\n",
        "# seed 고정\n",
        "SD = 42\n",
        "random.seed(SD)\n",
        "np.random.seed(SD)\n",
        "os.environ['PYTHONHASHSEED'] = str(SD)\n",
        "\n",
        "warnings.filterwarnings('ignore')"
      ]
    },
    {
      "cell_type": "code",
      "execution_count": 4,
      "metadata": {
        "id": "gIbC9LQkv6T4"
      },
      "outputs": [],
      "source": [
        "# pandas 옵션\n",
        "pd.set_option('display.max_columns', 999)\n",
        "pd.set_option('display.max_rows', 999)\n",
        "pd.set_option('display.max_colwidth', None)\n",
        "pd.set_option('display.float_format', lambda x: '%0.4f' % x)"
      ]
    },
    {
      "cell_type": "code",
      "execution_count": 5,
      "metadata": {
        "id": "38uzdH-UYh_3"
      },
      "outputs": [],
      "source": [
        "def seed_everything(seed):\n",
        "    random.seed(seed)\n",
        "    os.environ['PYTHONHASHSEED'] = str(seed)\n",
        "    np.random.seed(seed)\n",
        "    torch.manual_seed(seed)\n",
        "    torch.cuda.manual_seed(seed)\n",
        "    torch.backends.cudnn.deterministic = True\n",
        "    torch.backends.cudnn.benchmark = True\n",
        "\n",
        "seed_everything(1)"
      ]
    },
    {
      "cell_type": "code",
      "execution_count": 6,
      "metadata": {
        "id": "S_ZQfubWYiCk"
      },
      "outputs": [],
      "source": [
        "def correct_lifelog_date_for_midnight(df, timestamp_col='timestamp', lifelog_col='lifelog_date'):\n",
        "    df = df.copy()\n",
        "    df[timestamp_col] = pd.to_datetime(df[timestamp_col])\n",
        "    df[lifelog_col] = pd.to_datetime(df[lifelog_col])\n",
        "\n",
        "    # 조건: timestamp의 시(hour)가 0~5시인 경우만 하루 차감\n",
        "    mask = (df[timestamp_col].dt.hour >= 0) & (df[timestamp_col].dt.hour < 6)\n",
        "    df.loc[mask, lifelog_col] = df.loc[mask, lifelog_col] - pd.Timedelta(days=1)\n",
        "\n",
        "    # lifelog_date를 문자열로 바꾸는 경우\n",
        "    df[lifelog_col] = df[lifelog_col].dt.date.astype(str)\n",
        "\n",
        "    return df"
      ]
    },
    {
      "cell_type": "code",
      "execution_count": 7,
      "metadata": {
        "id": "YNjp5cfs2tXO"
      },
      "outputs": [],
      "source": [
        "def compare_means(train2, valid2, groupkey, target):\n",
        "    # 각 데이터셋의 그룹별 평균 계산\n",
        "    a1 = train2.groupby([groupkey])[target].mean()\n",
        "    a2 = valid2.groupby([groupkey])[target].mean()\n",
        "\n",
        "    # 비교용 DataFrame 생성\n",
        "    comparison_df = pd.DataFrame({f'Train {target}': a1, f'Valid {target}': a2})\n",
        "\n",
        "    # 막대 그래프 생성 (회색과 주황색으로 설정)\n",
        "    comparison_df.plot(\n",
        "        kind='bar',\n",
        "        figsize=(6, 4),\n",
        "        color=['gray', 'orange']  # Train: 회색, Valid: 주황색\n",
        "    )\n",
        "\n",
        "    # 라벨 및 타이틀 추가\n",
        "    plt.xlabel(groupkey)\n",
        "    plt.ylabel(f'Mean {target} Value')\n",
        "    plt.title(f'Comparison of Mean {target} by {groupkey} (Train: Gray, Valid: Orange)')\n",
        "\n",
        "    # 그래프 표시\n",
        "    plt.tight_layout()\n",
        "    plt.show()"
      ]
    },
    {
      "cell_type": "code",
      "execution_count": 23,
      "metadata": {
        "id": "xAc2iRxXGD_5"
      },
      "outputs": [],
      "source": [
        "def compare_means2(train2, valid2, test2, groupkey, target):\n",
        "    # 각 데이터셋의 그룹별 평균 계산\n",
        "    a1 = train2.groupby([groupkey])[target].mean()\n",
        "    a2 = valid2.groupby([groupkey])[target].mean()\n",
        "    a3 = test2.groupby([groupkey])[target].mean()\n",
        "\n",
        "    # 비교용 DataFrame 생성\n",
        "    comparison_df = pd.DataFrame({\n",
        "        f'Train {target}': a1,\n",
        "        f'Valid {target}': a2,\n",
        "        f'Test {target}': a3\n",
        "    })\n",
        "\n",
        "    # 막대 그래프 생성\n",
        "    comparison_df.plot(\n",
        "        kind='bar',\n",
        "        figsize=(8, 5),\n",
        "        color=['gray', 'orange', 'green']  # Train: 회색, Valid: 주황색, Test: 초록색\n",
        "    )\n",
        "\n",
        "    # 라벨 및 타이틀 추가\n",
        "    plt.xlabel(groupkey)\n",
        "    plt.ylabel(f'Mean {target} Value(hour)')\n",
        "    # plt.title(f'Comparison of Mean {target} by {groupkey}\\n(Train: Gray, Valid: Orange, Test: Green)')\n",
        "\n",
        "    # 그래프 표시\n",
        "    plt.tight_layout()\n",
        "    plt.show()"
      ]
    },
    {
      "cell_type": "code",
      "execution_count": 9,
      "metadata": {
        "id": "8ikO0GN_KxyQ"
      },
      "outputs": [],
      "source": [
        "import pandas as pd\n",
        "from io import StringIO\n",
        "\n",
        "string = \"\"\"\n",
        "subject_id,sleep_date\n",
        "id01,2024-07-24\n",
        "id01,2024-08-26\n",
        "id01,2024-08-28\n",
        "id01,2024-08-29\n",
        "id02,2024-08-23\n",
        "id02,2024-09-24\n",
        "id02,2024-09-26\n",
        "id02,2024-09-27\n",
        "id03,2024-08-30\n",
        "id03,2024-09-01\n",
        "id03,2024-09-02\n",
        "id03,2024-09-06\n",
        "id04,2024-09-03\n",
        "id04,2024-10-10\n",
        "id04,2024-10-12\n",
        "id04,2024-10-13\n",
        "id05,2024-10-19\n",
        "id05,2024-10-23\n",
        "id05,2024-10-24\n",
        "id05,2024-10-27\n",
        "id06,2024-07-25\n",
        "id06,2024-07-26\n",
        "id06,2024-07-27\n",
        "id06,2024-07-30\n",
        "id07,2024-07-07\n",
        "id07,2024-08-02\n",
        "id07,2024-08-04\n",
        "id07,2024-08-05\n",
        "id08,2024-08-28\n",
        "id08,2024-08-29\n",
        "id08,2024-08-30\n",
        "id08,2024-09-02\n",
        "id09,2024-08-02\n",
        "id09,2024-08-31\n",
        "id09,2024-09-02\n",
        "id09,2024-09-03\n",
        "id10,2024-08-28\n",
        "id10,2024-08-30\n",
        "id10,2024-08-31\n",
        "id10,2024-09-03\n",
        "\"\"\"\n",
        "\n",
        "# DataFrame 생성\n",
        "valid_ids = pd.read_csv(StringIO(string), sep=',')\n",
        "valid_ids['pk'] = valid_ids['subject_id']+valid_ids['sleep_date']"
      ]
    },
    {
      "cell_type": "code",
      "source": [
        "from google.colab import drive\n",
        "drive.mount('/content/drive')"
      ],
      "metadata": {
        "id": "Xe6oye3aIHFF"
      },
      "execution_count": null,
      "outputs": []
    },
    {
      "cell_type": "code",
      "execution_count": 10,
      "metadata": {
        "colab": {
          "base_uri": "https://localhost:8080/"
        },
        "id": "jw0cx3wwpSE2",
        "outputId": "49754abd-353c-4573-f8ea-3d2c60a588de"
      },
      "outputs": [
        {
          "output_type": "stream",
          "name": "stdout",
          "text": [
            "# drop_features: ['top_bssid']\n"
          ]
        }
      ],
      "source": [
        "path = '/content/drive/MyDrive/data/ch2025_data_items/'\n",
        "\n",
        "train = pd.read_parquet(\"/content/drive/MyDrive/data/train_0512.parquet\")\n",
        "test = pd.read_parquet(\"/content/drive/MyDrive/data/test_0512.parquet\")\n",
        "\n",
        "# drop_features = ['afterwork_max_label','sleeptime_max_label','worktime_max_label']\n",
        "drop_features = ['top_bssid'] # ,'week_type','week_type_lag1'\n",
        "drop_features = [i for i in drop_features if i in train.columns.tolist()]\n",
        "print('# drop_features:',drop_features)\n",
        "train = train.drop(columns=drop_features)\n",
        "test = test.drop(columns=drop_features)"
      ]
    },
    {
      "cell_type": "code",
      "execution_count": 12,
      "metadata": {
        "id": "zE-06HN6gtqy"
      },
      "outputs": [],
      "source": [
        "# 요일 컬럼 추가 (예: 월요일, 화요일, ...)\n",
        "train['lifelog_date'] = pd.to_datetime(train['lifelog_date'])\n",
        "test['lifelog_date'] = pd.to_datetime(test['lifelog_date'])\n",
        "\n",
        "# 요일\n",
        "weekday_map = {\n",
        "    0: '월요일', 1: '화요일', 2: '수요일', 3: '목요일',\n",
        "    4: '금요일', 5: '토요일', 6: '일요일'\n",
        "}\n",
        "train['weekday'] = train['lifelog_date'].dt.dayofweek.map(weekday_map)\n",
        "test['weekday'] = test['lifelog_date'].dt.dayofweek.map(weekday_map)\n",
        "\n",
        "# 월\n",
        "train['month'] = train['lifelog_date'].dt.month\n",
        "test['month'] = test['lifelog_date'].dt.month\n",
        "\n",
        "# weekend\n",
        "train['weekend'] = np.where(train['weekday'].isin(['토요일','일요일']),1,0)\n",
        "test['weekend'] = np.where(test['weekday'].isin(['토요일','일요일']),1,0)\n",
        "\n",
        "# 공휴일\n",
        "공휴일 = [\n",
        "     '2024-08-15'\n",
        "    ,'2024-09-16'\n",
        "    ,'2024-09-17'\n",
        "    ,'2024-09-18'\n",
        "    ,'2024-10-03'\n",
        "    ,'2024-10-09'\n",
        "]\n",
        "train['공휴일'] = np.where(train['lifelog_date'].isin(공휴일),1,0)\n",
        "test['공휴일'] = np.where(test['lifelog_date'].isin(공휴일),1,0)\n",
        "\n",
        "# 주말 + 공휴일 묶어주기\n",
        "# train['weekend'] = np.where( ((train['weekend']==0) & (train['공휴일']==1)), 1, train['weekend'])\n",
        "# test['weekend'] = np.where( ((test['weekend']==0) & (test['공휴일']==1)), 1, test['weekend'])"
      ]
    },
    {
      "cell_type": "code",
      "execution_count": 13,
      "metadata": {
        "id": "JBZKGmxSRBQW"
      },
      "outputs": [],
      "source": [
        "# 추정휴가\n",
        "def rule_based_sum(x):\n",
        "    rules = (\n",
        "        # (x['sleep_duration_min'] > (x['avg_sleep_duration'] + 30))\n",
        "          (x['sleep_duration_min'] > (x['avg_sleep_duration']))\n",
        "        & (x['week_type'] == 'weekday')\n",
        "        & (x['month'].isin([7,8]))\n",
        "    )\n",
        "    return rules\n",
        "\n",
        "train['vacation'] = train.groupby('subject_id').apply(rule_based_sum).reset_index(level=0, drop=True).astype(int)\n",
        "test['vacation'] = test.groupby('subject_id').apply(rule_based_sum).reset_index(level=0, drop=True).astype(int)"
      ]
    },
    {
      "cell_type": "code",
      "execution_count": 14,
      "metadata": {
        "colab": {
          "base_uri": "https://localhost:8080/"
        },
        "id": "q5_sNQjeX8Zb",
        "outputId": "5bb99f38-22bf-4a54-9625-461263e0df30"
      },
      "outputs": [
        {
          "output_type": "stream",
          "name": "stdout",
          "text": [
            "# train:   (450, 178)\n",
            "# train2:  (40, 178)\n",
            "# valid2:  (410, 178)\n"
          ]
        }
      ],
      "source": [
        "# valid 데이터셋 생성\n",
        "train['pk'] = train['subject_id']+train['sleep_date']\n",
        "train2 = train.loc[train['pk'].isin(valid_ids['pk'].unique().tolist()),:]\n",
        "valid2 = train.loc[~train['pk'].isin(valid_ids['pk'].unique().tolist()),:]\n",
        "\n",
        "# check\n",
        "# train:   (450, 188)\n",
        "# train2:  (105, 188)\n",
        "# valid2:  (345, 188)\n",
        "print('# train:  ',train.shape)\n",
        "print('# train2: ',train2.shape)\n",
        "print('# valid2: ',valid2.shape)"
      ]
    },
    {
      "cell_type": "code",
      "execution_count": 14,
      "metadata": {
        "id": "YNSFIDUvX8dG"
      },
      "outputs": [],
      "source": []
    },
    {
      "cell_type": "code",
      "execution_count": null,
      "metadata": {
        "id": "ydqwqRNjqhL-"
      },
      "outputs": [],
      "source": []
    },
    {
      "cell_type": "code",
      "execution_count": null,
      "metadata": {
        "id": "1hC3NWqhDybU"
      },
      "outputs": [],
      "source": []
    },
    {
      "cell_type": "markdown",
      "metadata": {
        "id": "8qrXzX72JA0H"
      },
      "source": [
        "### 📌 데이터 탐색\n",
        "\n",
        "[train/valid]\n",
        "- id별 건수 및 타겟 평점\n",
        "- 월별 타겟 평점\n",
        "- 요일별 타겟 평점\n",
        "\n",
        "[train/valid/test]\n",
        "- id별 평균 수면시간\n",
        "- id별 평균 기상시간\n",
        "- id별 평균 취침시간\n",
        "- id별 평균 걸음수\n",
        "- id별 평균 심박동수\n",
        "- id별 평균 앱사용시간\n",
        "- id별 평균 취침전 앱사용시간\n",
        "- id별 평균 와이파이 이용기기건수 / 이용시간\n",
        "- id별 평균 블루투스 이용기기건수 / 이용시간\n",
        "- id별 추정 휴가일수\n",
        "- id별 추정 수면시간대 기상건수 (빛,소리)\n",
        "- id별 추정 수면효율"
      ]
    },
    {
      "cell_type": "code",
      "source": [
        "# wake_time\n",
        "# sleep_time\n",
        "train2 = train2.rename(columns={'sleep_time':'bedtime'})\n",
        "valid2 = valid2.rename(columns={'sleep_time':'bedtime'})\n",
        "test = test.rename(columns={'sleep_time':'bedtime'})"
      ],
      "metadata": {
        "id": "CoGM6zpoIW_Y"
      },
      "execution_count": 32,
      "outputs": []
    },
    {
      "cell_type": "code",
      "source": [
        "def compare_means2(train2, valid2, test2, groupkey, target):\n",
        "    # 각 데이터셋의 그룹별 평균 계산\n",
        "    a1 = train2.groupby([groupkey])[target].mean()\n",
        "    a2 = valid2.groupby([groupkey])[target].mean()\n",
        "    a3 = test2.groupby([groupkey])[target].mean()\n",
        "\n",
        "    # 비교용 DataFrame 생성\n",
        "    comparison_df = pd.DataFrame({\n",
        "        f'Train {target}': a1,\n",
        "        f'Valid {target}': a2,\n",
        "        f'Test {target}': a3\n",
        "    })\n",
        "\n",
        "    # 막대 그래프 생성\n",
        "    ax = comparison_df.plot(\n",
        "        kind='bar',\n",
        "        figsize=(8, 5),\n",
        "        color=['gray', 'orange', 'green']\n",
        "    )\n",
        "\n",
        "    plt.ylabel(f'Mean {target} (hour)')\n",
        "\n",
        "     # 라벨 및 타이틀 추가\n",
        "    plt.xlabel(\"Participant ID\")  # 🔹 x축 이름 변경\n",
        "    plt.ylabel(f'Mean {target} Value (hour)')\n",
        "\n",
        "    # y축 최대값을 현재 값보다 크게 설정 → 위쪽 여백 확보\n",
        "    ymax = comparison_df.values.max() * 1.2   # 최대값의 120%까지\n",
        "    plt.ylim(0, ymax)\n",
        "\n",
        "    # 범례를 그래프 안쪽에 고정 (여백 위에 위치)\n",
        "    plt.legend(loc='upper right')\n",
        "\n",
        "    # 그래프 표시\n",
        "    plt.tight_layout()\n",
        "    plt.show()"
      ],
      "metadata": {
        "id": "JcxI-9o1KRyZ"
      },
      "execution_count": 44,
      "outputs": []
    },
    {
      "cell_type": "code",
      "source": [
        "compare_means2(train2, valid2, test, 'subject_id', 'wake_time')"
      ],
      "metadata": {
        "colab": {
          "base_uri": "https://localhost:8080/",
          "height": 506
        },
        "id": "FhU1POvxI_nk",
        "outputId": "9516c713-e516-43c9-f9a1-70537d3acb47"
      },
      "execution_count": 45,
      "outputs": [
        {
          "output_type": "display_data",
          "data": {
            "text/plain": [
              "<Figure size 800x500 with 1 Axes>"
            ],
            "image/png": "[encoded data removed]"
          },
          "metadata": {}
        }
      ]
    },
    {
      "cell_type": "code",
      "execution_count": 46,
      "metadata": {
        "colab": {
          "base_uri": "https://localhost:8080/",
          "height": 507
        },
        "id": "nVdud_EfqsfU",
        "outputId": "dad695f1-685d-43af-d1cd-35c9bdc48d1a"
      },
      "outputs": [
        {
          "output_type": "display_data",
          "data": {
            "text/plain": [
              "<Figure size 800x500 with 1 Axes>"
            ],
            "image/png": "[encoded data removed]"
          },
          "metadata": {}
        }
      ],
      "source": [
        "compare_means2(train2, valid2, test, 'subject_id', 'bedtime')"
      ]
    },
    {
      "cell_type": "code",
      "execution_count": null,
      "metadata": {
        "id": "05n2tIhhqsrs"
      },
      "outputs": [],
      "source": []
    },
    {
      "cell_type": "code",
      "execution_count": null,
      "metadata": {
        "id": "2wI9SEQnqsyC"
      },
      "outputs": [],
      "source": []
    },
    {
      "cell_type": "code",
      "execution_count": null,
      "metadata": {
        "id": "AqRKeTNXqs08"
      },
      "outputs": [],
      "source": []
    },
    {
      "cell_type": "code",
      "execution_count": null,
      "metadata": {
        "id": "FMWcVJJ8qs4_"
      },
      "outputs": [],
      "source": []
    },
    {
      "cell_type": "code",
      "execution_count": null,
      "metadata": {
        "id": "TbeswVqlqs7i"
      },
      "outputs": [],
      "source": []
    },
    {
      "cell_type": "code",
      "execution_count": null,
      "metadata": {
        "id": "sxNQbTJ-qs9f"
      },
      "outputs": [],
      "source": []
    },
    {
      "cell_type": "code",
      "execution_count": null,
      "metadata": {
        "id": "m6v4golzqtBU"
      },
      "outputs": [],
      "source": []
    },
    {
      "cell_type": "code",
      "execution_count": null,
      "metadata": {
        "id": "d18YBLJgqtFf"
      },
      "outputs": [],
      "source": []
    },
    {
      "cell_type": "code",
      "execution_count": null,
      "metadata": {
        "id": "gqJIVMAlqtHg"
      },
      "outputs": [],
      "source": []
    },
    {
      "cell_type": "code",
      "execution_count": null,
      "metadata": {
        "id": "3bGQ72wnqtKc"
      },
      "outputs": [],
      "source": []
    },
    {
      "cell_type": "code",
      "execution_count": null,
      "metadata": {
        "id": "u0AA9oQZqtPG"
      },
      "outputs": [],
      "source": []
    },
    {
      "cell_type": "code",
      "execution_count": null,
      "metadata": {
        "id": "9EQRWI87qtQ3"
      },
      "outputs": [],
      "source": []
    },
    {
      "cell_type": "code",
      "execution_count": null,
      "metadata": {
        "id": "ZrbogElZqtT0"
      },
      "outputs": [],
      "source": []
    },
    {
      "cell_type": "code",
      "execution_count": null,
      "metadata": {
        "id": "Cnr6cSEZo3le"
      },
      "outputs": [],
      "source": []
    },
    {
      "cell_type": "code",
      "execution_count": null,
      "metadata": {
        "id": "r289erGPo3p0"
      },
      "outputs": [],
      "source": []
    },
    {
      "cell_type": "code",
      "execution_count": null,
      "metadata": {
        "id": "dFonkYjho3uE"
      },
      "outputs": [],
      "source": []
    },
    {
      "cell_type": "code",
      "execution_count": null,
      "metadata": {
        "id": "6UH0IsfTo3vr"
      },
      "outputs": [],
      "source": []
    },
    {
      "cell_type": "code",
      "execution_count": null,
      "metadata": {
        "id": "bRQwIVEJo3yr"
      },
      "outputs": [],
      "source": []
    },
    {
      "cell_type": "code",
      "execution_count": null,
      "metadata": {
        "id": "-l9xaTimo31k"
      },
      "outputs": [],
      "source": []
    },
    {
      "cell_type": "code",
      "execution_count": null,
      "metadata": {
        "id": "2pnd8M5Xo347"
      },
      "outputs": [],
      "source": []
    },
    {
      "cell_type": "code",
      "execution_count": null,
      "metadata": {
        "id": "hFr_WQ1wo39A"
      },
      "outputs": [],
      "source": []
    },
    {
      "cell_type": "code",
      "execution_count": null,
      "metadata": {
        "id": "RTP4x1_Fo4AS"
      },
      "outputs": [],
      "source": []
    },
    {
      "cell_type": "code",
      "execution_count": null,
      "metadata": {
        "id": "bR2bsSXRo4DS"
      },
      "outputs": [],
      "source": []
    },
    {
      "cell_type": "code",
      "execution_count": null,
      "metadata": {
        "id": "cj8bVtjHo4Ib"
      },
      "outputs": [],
      "source": []
    },
    {
      "cell_type": "code",
      "execution_count": null,
      "metadata": {
        "id": "rkj1DAVoo4Lx"
      },
      "outputs": [],
      "source": []
    },
    {
      "cell_type": "code",
      "execution_count": null,
      "metadata": {
        "id": "oTMX2reyo4QN"
      },
      "outputs": [],
      "source": []
    },
    {
      "cell_type": "code",
      "execution_count": null,
      "metadata": {
        "id": "LHkRCVHEo4TU"
      },
      "outputs": [],
      "source": []
    },
    {
      "cell_type": "code",
      "execution_count": null,
      "metadata": {
        "id": "sXZSQxS5o4Wt"
      },
      "outputs": [],
      "source": []
    },
    {
      "cell_type": "code",
      "execution_count": null,
      "metadata": {
        "id": "PAYErJg7o4Zt"
      },
      "outputs": [],
      "source": []
    },
    {
      "cell_type": "code",
      "execution_count": null,
      "metadata": {
        "id": "vKELh-oho4dW"
      },
      "outputs": [],
      "source": []
    },
    {
      "cell_type": "code",
      "execution_count": null,
      "metadata": {
        "id": "Yya9qnCwo4gZ"
      },
      "outputs": [],
      "source": []
    },
    {
      "cell_type": "code",
      "execution_count": null,
      "metadata": {
        "id": "DCYE6A1N6foi"
      },
      "outputs": [],
      "source": []
    }
  ],
  "metadata": {
    "colab": {
      "machine_shape": "hm",
      "provenance": [],
      "toc_visible": true
    },
    "kernelspec": {
      "display_name": "Python 3 (ipykernel)",
      "language": "python",
      "name": "python3"
    },
    "language_info": {
      "codemirror_mode": {
        "name": "ipython",
        "version": 3
      },
      "file_extension": ".py",
      "mimetype": "text/x-python",
      "name": "python",
      "nbconvert_exporter": "python",
      "pygments_lexer": "ipython3",
      "version": "3.12.4"
    }
  },
  "nbformat": 4,
  "nbformat_minor": 0
}